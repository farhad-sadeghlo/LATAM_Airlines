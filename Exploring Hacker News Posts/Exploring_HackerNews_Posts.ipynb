{
 "cells": [
  {
   "cell_type": "markdown",
   "metadata": {
    "collapsed": true
   },
   "source": [
    "# Hacker News Project"
   ]
  },
  {
   "cell_type": "markdown",
   "metadata": {},
   "source": [
    "## Introduction"
   ]
  },
  {
   "cell_type": "markdown",
   "metadata": {},
   "source": [
    "This project is about the Hacker News website owned by a company named YCombinator. Basically, users post their stories onto the website and receive comments, it's similar to reddit. \n",
    "\n",
    "Hacker News is extremely popular in technology and startup circles."
   ]
  },
  {
   "cell_type": "code",
   "execution_count": 1,
   "metadata": {},
   "outputs": [],
   "source": [
    "from csv import reader\n",
    "import datetime as dt"
   ]
  },
  {
   "cell_type": "code",
   "execution_count": 2,
   "metadata": {
    "scrolled": false
   },
   "outputs": [
    {
     "data": {
      "text/plain": "[['id', 'title', 'url', 'num_points', 'num_comments', 'author', 'created_at'],\n ['12224879',\n  'Interactive Dynamic Video',\n  'http://www.interactivedynamicvideo.com/',\n  '386',\n  '52',\n  'ne0phyte',\n  '8/4/2016 11:52'],\n ['10975351',\n  'How to Use Open Source and Shut the Fuck Up at the Same Time',\n  'http://hueniverse.com/2016/01/26/how-to-use-open-source-and-shut-the-fuck-up-at-the-same-time/',\n  '39',\n  '10',\n  'josep2',\n  '1/26/2016 19:30'],\n ['11964716',\n  \"Florida DJs May Face Felony for April Fools' Water Joke\",\n  'http://www.thewire.com/entertainment/2013/04/florida-djs-april-fools-water-joke/63798/',\n  '2',\n  '1',\n  'vezycash',\n  '6/23/2016 22:20']]"
     },
     "execution_count": 2,
     "metadata": {},
     "output_type": "execute_result"
    }
   ],
   "source": [
    "hn = list(reader(open('hacker_news.csv')))\n",
    "hn[0:4]"
   ]
  },
  {
   "cell_type": "markdown",
   "metadata": {},
   "source": [
    "## Removing headers from a list"
   ]
  },
  {
   "cell_type": "code",
   "execution_count": 3,
   "metadata": {},
   "outputs": [
    {
     "name": "stdout",
     "output_type": "stream",
     "text": [
      "['id', 'title', 'url', 'num_points', 'num_comments', 'author', 'created_at']\n",
      "[['12224879', 'Interactive Dynamic Video', 'http://www.interactivedynamicvideo.com/', '386', '52', 'ne0phyte', '8/4/2016 11:52'], ['10975351', 'How to Use Open Source and Shut the Fuck Up at the Same Time', 'http://hueniverse.com/2016/01/26/how-to-use-open-source-and-shut-the-fuck-up-at-the-same-time/', '39', '10', 'josep2', '1/26/2016 19:30'], ['11964716', \"Florida DJs May Face Felony for April Fools' Water Joke\", 'http://www.thewire.com/entertainment/2013/04/florida-djs-april-fools-water-joke/63798/', '2', '1', 'vezycash', '6/23/2016 22:20'], ['11919867', 'Technology ventures: From Idea to Enterprise', 'https://www.amazon.com/Technology-Ventures-Enterprise-Thomas-Byers/dp/0073523429', '3', '1', 'hswarna', '6/17/2016 0:01']]\n"
     ]
    }
   ],
   "source": [
    "headers = hn[0]\n",
    "del hn[0]\n",
    "print(headers)\n",
    "print(hn[0:4])"
   ]
  },
  {
   "cell_type": "markdown",
   "metadata": {},
   "source": [
    "## Extracting Ask HN and Show HN Posts"
   ]
  },
  {
   "cell_type": "code",
   "execution_count": 4,
   "metadata": {},
   "outputs": [],
   "source": [
    "ask_posts, show_posts, other_posts = [], [], []"
   ]
  },
  {
   "cell_type": "code",
   "execution_count": 5,
   "metadata": {},
   "outputs": [],
   "source": [
    "for row in hn:\n",
    "    title = row[1].lower()\n",
    "    if title[0:7] == 'ask hn:':\n",
    "        ask_posts.append(row)\n",
    "    elif title[0:7] == 'show hn':\n",
    "        show_posts.append(row)\n",
    "    else:\n",
    "        other_posts.append(row)"
   ]
  },
  {
   "cell_type": "code",
   "execution_count": 6,
   "metadata": {},
   "outputs": [
    {
     "data": {
      "text/plain": "True"
     },
     "execution_count": 6,
     "metadata": {},
     "output_type": "execute_result"
    }
   ],
   "source": [
    "len(hn) == len(ask_posts) + len(show_posts) + len(other_posts)"
   ]
  },
  {
   "cell_type": "code",
   "execution_count": 7,
   "metadata": {
    "scrolled": true
   },
   "outputs": [
    {
     "name": "stdout",
     "output_type": "stream",
     "text": [
      "20100 1738 1162 17200\n"
     ]
    }
   ],
   "source": [
    "print(len(hn), len(ask_posts), len(show_posts), len(other_posts))"
   ]
  },
  {
   "cell_type": "code",
   "execution_count": 8,
   "metadata": {},
   "outputs": [
    {
     "data": {
      "text/plain": "[['12296411',\n  'Ask HN: How to improve my personal website?',\n  '',\n  '2',\n  '6',\n  'ahmedbaracat',\n  '8/16/2016 9:55'],\n ['10610020',\n  'Ask HN: Am I the only one outraged by Twitter shutting down share counts?',\n  '',\n  '28',\n  '29',\n  'tkfx',\n  '11/22/2015 13:43'],\n ['11610310',\n  'Ask HN: Aby recent changes to CSS that broke mobile?',\n  '',\n  '1',\n  '1',\n  'polskibus',\n  '5/2/2016 10:14']]"
     },
     "execution_count": 8,
     "metadata": {},
     "output_type": "execute_result"
    }
   ],
   "source": [
    "ask_posts[0:3]"
   ]
  },
  {
   "cell_type": "markdown",
   "metadata": {},
   "source": [
    "## Calculating the Average Number of Comments for Ask HN and Show HN Posts"
   ]
  },
  {
   "cell_type": "code",
   "execution_count": 9,
   "metadata": {},
   "outputs": [
    {
     "name": "stdout",
     "output_type": "stream",
     "text": [
      "Total number of comments are: 24448\n"
     ]
    }
   ],
   "source": [
    "total_ask_comments = 0\n",
    "for row in ask_posts:\n",
    "    total_ask_comments += int(row[4])\n",
    "print(f'Total number of comments are: {total_ask_comments}')"
   ]
  },
  {
   "cell_type": "code",
   "execution_count": 10,
   "metadata": {
    "scrolled": true
   },
   "outputs": [
    {
     "name": "stdout",
     "output_type": "stream",
     "text": [
      "Average number of comments are: 14.06674338319908\n"
     ]
    }
   ],
   "source": [
    "avg_ask_comments = total_ask_comments/len(ask_posts)\n",
    "print(f'Average number of comments are: {avg_ask_comments}')"
   ]
  },
  {
   "cell_type": "code",
   "execution_count": 11,
   "metadata": {},
   "outputs": [
    {
     "data": {
      "text/plain": "[['10627194',\n  'Show HN: Wio Link  ESP8266 Based Web of Things Hardware Development Platform',\n  'https://iot.seeed.cc',\n  '26',\n  '22',\n  'kfihihc',\n  '11/25/2015 14:03'],\n ['10646440',\n  'Show HN: Something pointless I made',\n  'http://dn.ht/picklecat/',\n  '747',\n  '102',\n  'dhotson',\n  '11/29/2015 22:46'],\n ['11590768',\n  'Show HN: Shanhu.io, a programming playground powered by e8vm',\n  'https://shanhu.io',\n  '1',\n  '1',\n  'h8liu',\n  '4/28/2016 18:05']]"
     },
     "execution_count": 11,
     "metadata": {},
     "output_type": "execute_result"
    }
   ],
   "source": [
    "show_posts[0:3]"
   ]
  },
  {
   "cell_type": "code",
   "execution_count": 12,
   "metadata": {},
   "outputs": [
    {
     "name": "stdout",
     "output_type": "stream",
     "text": [
      "Total number of show comments are: 11988\n"
     ]
    }
   ],
   "source": [
    "total_show_comments = 0\n",
    "for row in show_posts:\n",
    "    total_show_comments += int(row[4])\n",
    "print(f'Total number of show comments are: {total_show_comments}')"
   ]
  },
  {
   "cell_type": "code",
   "execution_count": 13,
   "metadata": {},
   "outputs": [
    {
     "name": "stdout",
     "output_type": "stream",
     "text": [
      "Average number of show posts are: 10.31669535283993\n"
     ]
    }
   ],
   "source": [
    "avg_show_comments = total_show_comments/len(show_posts)\n",
    "print(f'Average number of show posts are: {avg_show_comments}')"
   ]
  },
  {
   "cell_type": "markdown",
   "metadata": {},
   "source": [
    "It seems ask posts on average recieve more comments "
   ]
  },
  {
   "cell_type": "markdown",
   "metadata": {},
   "source": [
    "## Finding the Number of Ask Posts and Comments by Hour Created"
   ]
  },
  {
   "cell_type": "code",
   "execution_count": 14,
   "metadata": {},
   "outputs": [
    {
     "name": "stdout",
     "output_type": "stream",
     "text": [
      "counts by hour is: {9: 45, 13: 85, 10: 59, 14: 107, 16: 106, 23: 68, 12: 73, 17: 99, 15: 116, 21: 109, 20: 80, 2: 58, 18: 109, 3: 54, 5: 46, 19: 109, 1: 59, 22: 71, 8: 48, 4: 47, 0: 54, 6: 44, 7: 34, 11: 58}\n",
      "\n",
      "comments by hour is: {9: 251, 13: 1253, 10: 793, 14: 1416, 16: 1811, 23: 543, 12: 687, 17: 1143, 15: 4477, 21: 1745, 20: 1722, 2: 1381, 18: 1439, 3: 421, 5: 464, 19: 1184, 1: 662, 22: 479, 8: 492, 4: 337, 0: 443, 6: 397, 7: 267, 11: 641}\n"
     ]
    }
   ],
   "source": [
    "result_list = []\n",
    "for row in ask_posts:\n",
    "    num_comments = int(row[4])\n",
    "    result_list.append([row[6], num_comments])\n",
    "    \n",
    "counts_by_hour, comments_by_hour = {}, {}\n",
    "for row in result_list:\n",
    "    time = dt.datetime.strptime(row[0], '%m/%d/%Y %H:%M')\n",
    "    if time.hour not in counts_by_hour:\n",
    "        counts_by_hour[time.hour] = 1\n",
    "        comments_by_hour[time.hour] = row[1]\n",
    "    else: \n",
    "        counts_by_hour[time.hour] += 1\n",
    "        comments_by_hour[time.hour] += row[1]\n",
    "print(f'counts by hour is: {counts_by_hour}\\n')\n",
    "print(f'comments by hour is: {comments_by_hour}')"
   ]
  },
  {
   "cell_type": "markdown",
   "metadata": {},
   "source": [
    "## Calculating the Average Number of Comments for Ask HN Posts by Hour"
   ]
  },
  {
   "cell_type": "code",
   "execution_count": 15,
   "metadata": {
    "scrolled": false
   },
   "outputs": [
    {
     "data": {
      "text/plain": "[['9', 5.5777777777777775],\n ['13', 14.741176470588234],\n ['10', 13.440677966101696],\n ['14', 13.233644859813085],\n ['16', 17.08490566037736],\n ['23', 7.985294117647059],\n ['12', 9.41095890410959],\n ['17', 11.545454545454545],\n ['15', 38.5948275862069],\n ['21', 16.009174311926607],\n ['20', 21.525],\n ['2', 23.810344827586206],\n ['18', 13.20183486238532],\n ['3', 7.796296296296297],\n ['5', 10.08695652173913],\n ['19', 10.862385321100918],\n ['1', 11.220338983050848],\n ['22', 6.746478873239437],\n ['8', 10.25],\n ['4', 7.170212765957447],\n ['0', 8.203703703703704],\n ['6', 9.022727272727273],\n ['7', 7.852941176470588],\n ['11', 11.051724137931034]]"
     },
     "execution_count": 15,
     "metadata": {},
     "output_type": "execute_result"
    }
   ],
   "source": [
    "avg_by_hour = []\n",
    "for hour in comments_by_hour:\n",
    "    avg_by_hour.append([str(hour), (comments_by_hour[hour]/counts_by_hour[hour])])\n",
    "avg_by_hour"
   ]
  },
  {
   "cell_type": "markdown",
   "metadata": {},
   "source": [
    "We have made what we need but this format makes it difficult to clarify the hours with the highest values"
   ]
  },
  {
   "cell_type": "code",
   "execution_count": 16,
   "metadata": {},
   "outputs": [
    {
     "data": {
      "text/plain": "[[5.5777777777777775, '9'],\n [14.741176470588234, '13'],\n [13.440677966101696, '10'],\n [13.233644859813085, '14'],\n [17.08490566037736, '16'],\n [7.985294117647059, '23'],\n [9.41095890410959, '12'],\n [11.545454545454545, '17'],\n [38.5948275862069, '15'],\n [16.009174311926607, '21'],\n [21.525, '20'],\n [23.810344827586206, '2'],\n [13.20183486238532, '18'],\n [7.796296296296297, '3'],\n [10.08695652173913, '5'],\n [10.862385321100918, '19'],\n [11.220338983050848, '1'],\n [6.746478873239437, '22'],\n [10.25, '8'],\n [7.170212765957447, '4'],\n [8.203703703703704, '0'],\n [9.022727272727273, '6'],\n [7.852941176470588, '7'],\n [11.051724137931034, '11']]"
     },
     "execution_count": 16,
     "metadata": {},
     "output_type": "execute_result"
    }
   ],
   "source": [
    "swap_avg_by_hour = []\n",
    "for row in avg_by_hour:\n",
    "    swap_avg_by_hour.append([row[1], row[0]])\n",
    "swap_avg_by_hour"
   ]
  },
  {
   "cell_type": "markdown",
   "metadata": {},
   "source": [
    "## Sorting and Printing Values from a List of Lists"
   ]
  },
  {
   "cell_type": "code",
   "execution_count": 17,
   "metadata": {},
   "outputs": [
    {
     "data": {
      "text/plain": "[[38.5948275862069, '15'],\n [23.810344827586206, '2'],\n [21.525, '20'],\n [17.08490566037736, '16'],\n [16.009174311926607, '21'],\n [14.741176470588234, '13'],\n [13.440677966101696, '10'],\n [13.233644859813085, '14'],\n [13.20183486238532, '18'],\n [11.545454545454545, '17'],\n [11.220338983050848, '1'],\n [11.051724137931034, '11'],\n [10.862385321100918, '19'],\n [10.25, '8'],\n [10.08695652173913, '5'],\n [9.41095890410959, '12'],\n [9.022727272727273, '6'],\n [8.203703703703704, '0'],\n [7.985294117647059, '23'],\n [7.852941176470588, '7'],\n [7.796296296296297, '3'],\n [7.170212765957447, '4'],\n [6.746478873239437, '22'],\n [5.5777777777777775, '9']]"
     },
     "execution_count": 17,
     "metadata": {},
     "output_type": "execute_result"
    }
   ],
   "source": [
    "sorted_swap = sorted(swap_avg_by_hour, reverse=True)\n",
    "sorted_swap"
   ]
  },
  {
   "cell_type": "code",
   "execution_count": 18,
   "metadata": {},
   "outputs": [
    {
     "name": "stdout",
     "output_type": "stream",
     "text": [
      "Top 5 Hours for Ask Posts Comments\n",
      "15:00:38.59 average comments per post\n",
      "2:00:23.81 average comments per post\n",
      "20:00:21.52 average comments per post\n",
      "16:00:17.08 average comments per post\n",
      "21:00:16.01 average comments per post\n"
     ]
    }
   ],
   "source": [
    "print(\"Top 5 Hours for Ask Posts Comments\")\n",
    "for row in sorted_swap[0:5]:\n",
    "    print(f'{row[1]}:00:{row[0]:.2f} average comments per post')"
   ]
  },
  {
   "cell_type": "markdown",
   "metadata": {},
   "source": [
    "So, according to the results during 3PM, 2AM, 8PM, 4PM, and 9PM if you make your posts you would get higher chance of getting more readers"
   ]
  },
  {
   "cell_type": "code",
   "execution_count": 18,
   "metadata": {},
   "outputs": [],
   "source": []
  }
 ],
 "metadata": {
  "kernelspec": {
   "display_name": "Python 3",
   "language": "python",
   "name": "python3"
  },
  "language_info": {
   "codemirror_mode": {
    "name": "ipython",
    "version": 3
   },
   "file_extension": ".py",
   "mimetype": "text/x-python",
   "name": "python",
   "nbconvert_exporter": "python",
   "pygments_lexer": "ipython3",
   "version": "3.8.2"
  }
 },
 "nbformat": 4,
 "nbformat_minor": 2
}
