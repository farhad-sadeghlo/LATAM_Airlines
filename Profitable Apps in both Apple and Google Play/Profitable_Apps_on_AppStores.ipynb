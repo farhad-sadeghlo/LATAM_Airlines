{
 "cells": [
  {
   "cell_type": "markdown",
   "metadata": {},
   "source": [
    "This project is about finding the profitable app profiles for the Apple Store and Google Play Store "
   ]
  },
  {
   "cell_type": "markdown",
   "metadata": {},
   "source": [
    "# Analyzing Mobile App Data Project"
   ]
  },
  {
   "cell_type": "code",
   "execution_count": 1,
   "metadata": {},
   "outputs": [],
   "source": [
    "from csv import reader\n",
    "app_store = open('AppleStore.csv', encoding=\"utf8\")\n",
    "goog_play = open('googleplaystore.csv', encoding=\"utf8\")"
   ]
  },
  {
   "cell_type": "code",
   "execution_count": 2,
   "metadata": {},
   "outputs": [],
   "source": [
    "app_store = reader(app_store)\n",
    "app_store = list(app_store)\n",
    "goog_play = reader(goog_play)\n",
    "goog_play = list(goog_play)"
   ]
  },
  {
   "cell_type": "markdown",
   "metadata": {},
   "source": [
    "# Opening and Exploring the Data"
   ]
  },
  {
   "cell_type": "code",
   "execution_count": 3,
   "metadata": {},
   "outputs": [],
   "source": [
    "def explore_data(dataset, start, end, rows_and_columns=False):\n",
    "    dataset_slice = dataset[start:end]    \n",
    "    for row in dataset_slice:\n",
    "        print(row)\n",
    "        print('\\n') # adds a new (empty) line after each row\n",
    "\n",
    "    if rows_and_columns:\n",
    "        print('Number of rows:', len(dataset))\n",
    "        print('Number of columns:', len(dataset[0]))"
   ]
  },
  {
   "cell_type": "code",
   "execution_count": 4,
   "metadata": {},
   "outputs": [
    {
     "name": "stdout",
     "output_type": "stream",
     "text": [
      "['id', 'track_name', 'size_bytes', 'currency', 'price', 'rating_count_tot', 'rating_count_ver', 'user_rating', 'user_rating_ver', 'ver', 'cont_rating', 'prime_genre', 'sup_devices.num', 'ipadSc_urls.num', 'lang.num', 'vpp_lic']\n",
      "\n",
      "\n",
      "['284882215', 'Facebook', '389879808', 'USD', '0.0', '2974676', '212', '3.5', '3.5', '95.0', '4+', 'Social Networking', '37', '1', '29', '1']\n",
      "\n",
      "\n",
      "['389801252', 'Instagram', '113954816', 'USD', '0.0', '2161558', '1289', '4.5', '4.0', '10.23', '12+', 'Photo & Video', '37', '0', '29', '1']\n",
      "\n",
      "\n"
     ]
    }
   ],
   "source": [
    "explore_data(app_store, 0, 3)"
   ]
  },
  {
   "cell_type": "code",
   "execution_count": 5,
   "metadata": {},
   "outputs": [
    {
     "data": {
      "text/plain": "16"
     },
     "execution_count": 5,
     "metadata": {},
     "output_type": "execute_result"
    }
   ],
   "source": [
    "len(app_store[0])"
   ]
  },
  {
   "cell_type": "code",
   "execution_count": 6,
   "metadata": {},
   "outputs": [
    {
     "data": {
      "text/plain": "7198"
     },
     "execution_count": 6,
     "metadata": {},
     "output_type": "execute_result"
    }
   ],
   "source": [
    "len(app_store)"
   ]
  },
  {
   "cell_type": "markdown",
   "metadata": {},
   "source": [
    "# Deleting Wrong Data"
   ]
  },
  {
   "cell_type": "markdown",
   "metadata": {},
   "source": [
    "we should check if all the rows has equal number of entries, We already know the main row has 13 items so we would find the lesser ones and delete them."
   ]
  },
  {
   "cell_type": "code",
   "execution_count": 7,
   "metadata": {},
   "outputs": [],
   "source": [
    "def error_finder(dataset):\n",
    "    for idx, item in enumerate(dataset[1:]):\n",
    "        if len(item) < len(dataset[0]):\n",
    "            print(f'Number of rows for row {idx} is {len(item)}')\n",
    "            print(idx, goog_play[idx])"
   ]
  },
  {
   "cell_type": "code",
   "execution_count": 8,
   "metadata": {
    "scrolled": true
   },
   "outputs": [
    {
     "name": "stdout",
     "output_type": "stream",
     "text": [
      "Number of rows for row 10472 is 12\n",
      "10472 ['Xposed Wi-Fi-Pwd', 'PERSONALIZATION', '3.5', '1042', '404k', '100,000+', 'Free', '0', 'Everyone', 'Personalization', 'August 5, 2014', '3.0.0', '4.0.3 and up']\n"
     ]
    }
   ],
   "source": [
    "error_finder(goog_play)"
   ]
  },
  {
   "cell_type": "code",
   "execution_count": 9,
   "metadata": {},
   "outputs": [
    {
     "data": {
      "text/plain": "12"
     },
     "execution_count": 9,
     "metadata": {},
     "output_type": "execute_result"
    }
   ],
   "source": [
    "len(goog_play[10473])"
   ]
  },
  {
   "cell_type": "code",
   "execution_count": 10,
   "metadata": {},
   "outputs": [],
   "source": [
    "del goog_play[10473]"
   ]
  },
  {
   "cell_type": "code",
   "execution_count": 11,
   "metadata": {},
   "outputs": [],
   "source": [
    "error_finder(goog_play)"
   ]
  },
  {
   "cell_type": "markdown",
   "metadata": {},
   "source": [
    "The google play dataset has some duplicates in some rows so we need to find and delete them."
   ]
  },
  {
   "cell_type": "code",
   "execution_count": 12,
   "metadata": {},
   "outputs": [
    {
     "name": "stdout",
     "output_type": "stream",
     "text": [
      "['App', 'Category', 'Rating', 'Reviews', 'Size', 'Installs', 'Type', 'Price', 'Content Rating', 'Genres', 'Last Updated', 'Current Ver', 'Android Ver']\n",
      "\n",
      "\n",
      "['Photo Editor & Candy Camera & Grid & ScrapBook', 'ART_AND_DESIGN', '4.1', '159', '19M', '10,000+', 'Free', '0', 'Everyone', 'Art & Design', 'January 7, 2018', '1.0.0', '4.0.3 and up']\n",
      "\n",
      "\n",
      "['Coloring book moana', 'ART_AND_DESIGN', '3.9', '967', '14M', '500,000+', 'Free', '0', 'Everyone', 'Art & Design;Pretend Play', 'January 15, 2018', '2.0.0', '4.0.3 and up']\n",
      "\n",
      "\n"
     ]
    }
   ],
   "source": [
    "explore_data(goog_play, 0, 3)"
   ]
  },
  {
   "cell_type": "code",
   "execution_count": 13,
   "metadata": {},
   "outputs": [],
   "source": [
    "goog_play = goog_play[1:]\n",
    "app_store = app_store[1:]"
   ]
  },
  {
   "cell_type": "markdown",
   "metadata": {},
   "source": [
    "# Removing Duplicate Entries: Part One"
   ]
  },
  {
   "cell_type": "code",
   "execution_count": 14,
   "metadata": {},
   "outputs": [],
   "source": [
    "def duplicate_finder(col, dataset):\n",
    "    unique_apps = []\n",
    "    duplicate_apps = []\n",
    "    for row in dataset[1:]:\n",
    "        entry = row[col]\n",
    "        if entry in unique_apps:\n",
    "            duplicate_apps.append(entry)\n",
    "        else:\n",
    "            unique_apps.append(entry)\n",
    "    \n",
    "    print(f'Some of duplicate apps are {duplicate_apps[:15]} and they are {len(duplicate_apps)}')\n",
    "#     print(f'Number of unique apps of column {dataset[col]} are {len(unique_apps)}')\n",
    "#     return duplicate_apps"
   ]
  },
  {
   "cell_type": "code",
   "execution_count": 15,
   "metadata": {},
   "outputs": [
    {
     "name": "stdout",
     "output_type": "stream",
     "text": [
      "Some of duplicate apps are ['Quick PDF Scanner + OCR FREE', 'Box', 'Google My Business', 'ZOOM Cloud Meetings', 'join.me - Simple Meetings', 'Box', 'Zenefits', 'Google Ads', 'Google My Business', 'Slack', 'FreshBooks Classic', 'Insightly CRM', 'QuickBooks Accounting: Invoicing & Expenses', 'HipChat - Chat Built for Teams', 'Xero Accounting Software'] and they are 1181\n"
     ]
    }
   ],
   "source": [
    "# These are the first item in rows which are duplicates\n",
    "duplicate_finder(0, goog_play)"
   ]
  },
  {
   "cell_type": "code",
   "execution_count": 16,
   "metadata": {
    "scrolled": true
   },
   "outputs": [
    {
     "name": "stdout",
     "output_type": "stream",
     "text": [
      "['Quick PDF Scanner + OCR FREE', 'BUSINESS', '4.2', '80805', 'Varies with device', '5,000,000+', 'Free', '0', 'Everyone', 'Business', 'February 26, 2018', 'Varies with device', '4.0.3 and up']\n",
      "['Quick PDF Scanner + OCR FREE', 'BUSINESS', '4.2', '80805', 'Varies with device', '5,000,000+', 'Free', '0', 'Everyone', 'Business', 'February 26, 2018', 'Varies with device', '4.0.3 and up']\n",
      "['Quick PDF Scanner + OCR FREE', 'BUSINESS', '4.2', '80804', 'Varies with device', '5,000,000+', 'Free', '0', 'Everyone', 'Business', 'February 26, 2018', 'Varies with device', '4.0.3 and up']\n"
     ]
    }
   ],
   "source": [
    "for item in goog_play:\n",
    "    if item[0] == 'Quick PDF Scanner + OCR FREE':\n",
    "        print(item)"
   ]
  },
  {
   "cell_type": "markdown",
   "metadata": {},
   "source": [
    "# Removing Duplicate Entries: Part Two"
   ]
  },
  {
   "cell_type": "markdown",
   "metadata": {},
   "source": [
    "We won't remove the duplicates randomly, the criterion that we're going to use is: \\\n",
    "The fourth item in each row corresponds to the number of comments for each app, so the higher number of comments the latest version the app is. Therefore for each duplicate we can filter out a row with the latest version of the information."
   ]
  },
  {
   "cell_type": "markdown",
   "metadata": {},
   "source": [
    "Now, we want to remove the duplicates"
   ]
  },
  {
   "cell_type": "markdown",
   "metadata": {},
   "source": [
    "We would first make a dictionary of unique items and their corresponding number of reviews. That if an app name is already in the dictionary and their current number of reviews is less than their duplicated app name number of reviews then their number of reviews would be updated.\\\n",
    "\\\n",
    "For the if statement condition if we use it with else clause then if both the criterias are not met (i.e. the app name is not in the max_reviews dictionary and also the max_reviews dictionary is not less than that of current reading number of reviews) the app wont be added to the dictionary, Therefore, we need to place adding the new dicitonary item for new reviews just out of the if statement and that's it. \\\n",
    "\\\n",
    "So, in this way we would make a unique list of app names with their corresponding maximum number of reviews."
   ]
  },
  {
   "cell_type": "code",
   "execution_count": 17,
   "metadata": {
    "scrolled": true
   },
   "outputs": [
    {
     "name": "stdout",
     "output_type": "stream",
     "text": [
      "count of apps with their reviews at maximum available count are: 9659\n"
     ]
    }
   ],
   "source": [
    "reviews_max = {}\n",
    "for row in goog_play:\n",
    "    name = row[0]\n",
    "    n_reviews = float(row[3])\n",
    "    if name in reviews_max and reviews_max[name] < n_reviews:\n",
    "        reviews_max[name] = n_reviews\n",
    "    reviews_max[name] = n_reviews\n",
    "    \n",
    "print(f'count of apps with their reviews at maximum available count are: {len(reviews_max)}')"
   ]
  },
  {
   "cell_type": "code",
   "execution_count": 18,
   "metadata": {},
   "outputs": [
    {
     "name": "stdout",
     "output_type": "stream",
     "text": [
      "Lenght of dataset list without thos duplicates:  9659\n",
      "Lenght of apps with their reviews count at maximum available amount:  9659\n"
     ]
    }
   ],
   "source": [
    "print('Lenght of dataset list without thos duplicates: ', len(goog_play) - 1181)\n",
    "print('Lenght of apps with their reviews count at maximum available amount: ', len(reviews_max))"
   ]
  },
  {
   "cell_type": "markdown",
   "metadata": {},
   "source": [
    "We would use the previous dictionary of unique items with the maximum number of reviews to make a clean list of such app names with all their information. \\\n",
    "\n",
    "We see that the count of apps with max reviews the reviews_max dataset and the count of cleaned list of apps with no duplicates the android_clean are the same."
   ]
  },
  {
   "cell_type": "code",
   "execution_count": 19,
   "metadata": {},
   "outputs": [
    {
     "name": "stdout",
     "output_type": "stream",
     "text": [
      "count of google not duplicate apps are: 9659\n"
     ]
    }
   ],
   "source": [
    "android_clean = []\n",
    "already_added = []\n",
    "for row in goog_play:\n",
    "    name = row[0]\n",
    "    n_reviews = float(row[3])\n",
    "    if n_reviews == reviews_max[name] and name not in already_added:\n",
    "        android_clean.append(row)\n",
    "        already_added.append(name)\n",
    "        \n",
    "print(f'count of google not duplicate apps are: {len(android_clean)}')"
   ]
  },
  {
   "cell_type": "markdown",
   "metadata": {},
   "source": [
    "# Removing Non-English Apps"
   ]
  },
  {
   "cell_type": "markdown",
   "metadata": {},
   "source": [
    "Next we want to filter those app names that are not English"
   ]
  },
  {
   "cell_type": "markdown",
   "metadata": {},
   "source": [
    "The previous criterion to drop non-English apps couldn't correctly identify them as some english apps use emoji's or trademark sign so if we used that we would lose useful data since many English apps will be invorrectly labeled as non-English.\\\n",
    "\\\n",
    "To minimize the data loss we would consider only removing apps that has three non-English characters"
   ]
  },
  {
   "cell_type": "code",
   "execution_count": 20,
   "metadata": {},
   "outputs": [],
   "source": [
    "def Non_English_Char_dropper(word):\n",
    "    counter = 0\n",
    "    for char in word:\n",
    "        if ord(char) > 127:\n",
    "            counter += 1\n",
    "    if counter > 3:\n",
    "        return False\n",
    "    else:\n",
    "        return True"
   ]
  },
  {
   "cell_type": "code",
   "execution_count": 21,
   "metadata": {},
   "outputs": [
    {
     "data": {
      "text/plain": "False"
     },
     "execution_count": 21,
     "metadata": {},
     "output_type": "execute_result"
    }
   ],
   "source": [
    "Non_English_Char_dropper('爱奇艺PPS -《欢乐颂2》电视剧热播')"
   ]
  },
  {
   "cell_type": "markdown",
   "metadata": {},
   "source": [
    "Now we would define a non-English app cleaner function and apply it to both of our datasets, the latest filtered google and the app store"
   ]
  },
  {
   "cell_type": "code",
   "execution_count": 22,
   "metadata": {},
   "outputs": [],
   "source": [
    "def Non_English_app_cleaner(dataset, col_num):\n",
    "    updated_list = []\n",
    "    for row in dataset:\n",
    "        name = row[col_num]\n",
    "        if Non_English_Char_dropper(name):\n",
    "            updated_list.append(row)\n",
    "    return updated_list"
   ]
  },
  {
   "cell_type": "code",
   "execution_count": 23,
   "metadata": {},
   "outputs": [
    {
     "name": "stdout",
     "output_type": "stream",
     "text": [
      "count of google English apps are: 9614\n"
     ]
    }
   ],
   "source": [
    "android_clean_English = Non_English_app_cleaner(android_clean, 0)\n",
    "print(f'count of google English apps are: {len(android_clean_English)}')"
   ]
  },
  {
   "cell_type": "code",
   "execution_count": 24,
   "metadata": {},
   "outputs": [
    {
     "name": "stdout",
     "output_type": "stream",
     "text": [
      "count of apple English apps are: 6183\n"
     ]
    }
   ],
   "source": [
    "app_store_English = Non_English_app_cleaner(app_store, 1)\n",
    "print(f'count of apple English apps are: {len(app_store_English)}')"
   ]
  },
  {
   "cell_type": "markdown",
   "metadata": {},
   "source": [
    "# Isolating the Free Apps"
   ]
  },
  {
   "cell_type": "markdown",
   "metadata": {},
   "source": [
    "We're only looking for free apps too, so we would filter them here"
   ]
  },
  {
   "cell_type": "code",
   "execution_count": 25,
   "metadata": {},
   "outputs": [],
   "source": [
    "def free_apps(dataset, col_num):\n",
    "    free_apps = []\n",
    "    for row in dataset:\n",
    "        price = row[col_num]\n",
    "        if price == '0' or price == '0.0':\n",
    "            free_apps.append(row)\n",
    "    return free_apps"
   ]
  },
  {
   "cell_type": "code",
   "execution_count": 26,
   "metadata": {},
   "outputs": [
    {
     "name": "stdout",
     "output_type": "stream",
     "text": [
      "count of google free apps are: 8864\n"
     ]
    }
   ],
   "source": [
    "android_clean_English_free = free_apps(android_clean_English, 7)\n",
    "print(f'count of google free apps are: {len(android_clean_English_free)}')"
   ]
  },
  {
   "cell_type": "code",
   "execution_count": 27,
   "metadata": {},
   "outputs": [
    {
     "name": "stdout",
     "output_type": "stream",
     "text": [
      "count of apple free apps are: 3222\n"
     ]
    }
   ],
   "source": [
    "app_store_English_free = free_apps(app_store_English, 4)\n",
    "print(f'count of apple free apps are: {len(app_store_English_free)}')"
   ]
  },
  {
   "cell_type": "markdown",
   "metadata": {},
   "source": [
    "# Most Common Apps by Genre"
   ]
  },
  {
   "cell_type": "markdown",
   "metadata": {},
   "source": [
    "Now, we need to find out what genre of apps are successful in both google play and apple store, so we can build our app in that category and be successful in money generation faster, therefore we would need to make a frequency table for each of stores to understand this.\n",
    "\n",
    "Also, we can make a common_genre dictionary so for each genre we can see what are the number of apps in both of Android and Apple stores.\n",
    "\n",
    "Also we can sort out the genre dictionaries based on number of apps genre"
   ]
  },
  {
   "cell_type": "code",
   "execution_count": 28,
   "metadata": {},
   "outputs": [],
   "source": [
    "def freq_table(dataset, col_num):\n",
    "    table = {}\n",
    "    total = 0\n",
    "    for row in dataset:\n",
    "        total += 1\n",
    "        col_data = row[col_num]\n",
    "        if col_data in table:\n",
    "            table[col_data] += 1\n",
    "        else: \n",
    "            table[col_data] = 1\n",
    "    \n",
    "    freq_table_dic = {}\n",
    "# To get percentages for each genre uncomment these two lines\n",
    "    for key, value in table.items():\n",
    "        freq_table_dic[key] = (value/total) * 100\n",
    "        \n",
    "    return freq_table_dic"
   ]
  },
  {
   "cell_type": "code",
   "execution_count": 29,
   "metadata": {},
   "outputs": [],
   "source": [
    "def display_table(dataset, index):\n",
    "    table = freq_table(dataset, index)\n",
    "    table_display = []\n",
    "    for key in table:\n",
    "        key_val_as_tuple = (table[key], key)\n",
    "        table_display.append(key_val_as_tuple)\n",
    "    table_sorted = sorted(table_display, reverse=True)\n",
    "    for item in table_sorted:\n",
    "        print(item[1], ' is ', item[0])"
   ]
  },
  {
   "cell_type": "code",
   "execution_count": 30,
   "metadata": {
    "scrolled": true
   },
   "outputs": [
    {
     "name": "stdout",
     "output_type": "stream",
     "text": [
      "the frequency table for the genre of apple store apps is as follows:\n",
      "('Games', 58.16263190564867)\n",
      "('Entertainment', 7.883302296710118)\n",
      "('Photo & Video', 4.9658597144630665)\n",
      "('Education', 3.662321539416512)\n",
      "('Social Networking', 3.2898820608317814)\n",
      "('Shopping', 2.60707635009311)\n",
      "('Utilities', 2.5139664804469275)\n",
      "('Sports', 2.1415270018621975)\n",
      "('Music', 2.0484171322160147)\n",
      "('Health & Fitness', 2.0173805090006205)\n",
      "('Productivity', 1.7380509000620732)\n",
      "('Lifestyle', 1.5828677839851024)\n",
      "('News', 1.3345747982619491)\n",
      "('Travel', 1.2414649286157666)\n",
      "('Finance', 1.1173184357541899)\n",
      "('Weather', 0.8690254500310366)\n",
      "('Food & Drink', 0.8069522036002483)\n",
      "('Reference', 0.5586592178770949)\n",
      "('Business', 0.5276225946617008)\n",
      "('Book', 0.4345127250155183)\n",
      "('Navigation', 0.186219739292365)\n",
      "('Medical', 0.186219739292365)\n",
      "('Catalogs', 0.12414649286157665)\n"
     ]
    }
   ],
   "source": [
    "# prime_genre\n",
    "apple_apps_prime_genre_sorted_percent = dict(sorted(freq_table(app_store_English_free, 11)\\\n",
    "                                .items(), key=lambda x:x[1], reverse=True))\n",
    "print(f'the frequency table for the genre of apple store apps is as follows:')\n",
    "for item in apple_apps_prime_genre_sorted_percent.items():\n",
    "    print(f'{item}') "
   ]
  },
  {
   "cell_type": "markdown",
   "metadata": {},
   "source": [
    "As a possibility here comes next context regarding some new intuitions, till we investigate it further"
   ]
  },
  {
   "cell_type": "markdown",
   "metadata": {},
   "source": [
    "The list was sorted. So, the most common prime genre was Games with 58.16%, and the next one was Education with only 7%, and there were far less than that number of apps in the stores; that's a massive drop of number of apps. Accordingly, most of apps like games according to their prime genre were just wasting of time for the customers."
   ]
  },
  {
   "cell_type": "markdown",
   "metadata": {},
   "source": [
    " Generally, most of apps were designed just for gaming and entertainment, according to the number of apps in this genre it showed gaming was a lot more important for most of Apple customers than anything else."
   ]
  },
  {
   "cell_type": "markdown",
   "metadata": {},
   "source": [
    "We can say gaming industry is booming, while it wouldn't mean that all apps in that genre have a large number of users, but it does mean that large number of users do pay attention to that specific genre unless otherwise wouldn't that many number of apps been made by the industry in such genre."
   ]
  },
  {
   "cell_type": "markdown",
   "metadata": {},
   "source": [
    "If we wanna compare common apps between both stores to compare them side by side"
   ]
  },
  {
   "cell_type": "code",
   "execution_count": 31,
   "metadata": {
    "scrolled": true
   },
   "outputs": [
    {
     "name": "stdout",
     "output_type": "stream",
     "text": [
      "the frequency table for the categories of google apps is as follows:\n",
      "('FAMILY', 19.223826714801444)\n",
      "('GAME', 9.510379061371841)\n",
      "('TOOLS', 8.461191335740072)\n",
      "('BUSINESS', 4.580324909747293)\n",
      "('LIFESTYLE', 3.9034296028880866)\n",
      "('PRODUCTIVITY', 3.892148014440433)\n",
      "('FINANCE', 3.7003610108303246)\n",
      "('MEDICAL', 3.5424187725631766)\n",
      "('SPORTS', 3.4183212996389893)\n",
      "('PERSONALIZATION', 3.3167870036101084)\n",
      "('COMMUNICATION', 3.2490974729241873)\n",
      "('HEALTH_AND_FITNESS', 3.068592057761733)\n",
      "('PHOTOGRAPHY', 2.944494584837545)\n",
      "('NEWS_AND_MAGAZINES', 2.7978339350180503)\n",
      "('SOCIAL', 2.6624548736462095)\n",
      "('TRAVEL_AND_LOCAL', 2.33528880866426)\n",
      "('SHOPPING', 2.2450361010830324)\n",
      "('BOOKS_AND_REFERENCE', 2.1435018050541514)\n",
      "('DATING', 1.861462093862816)\n",
      "('VIDEO_PLAYERS', 1.782490974729242)\n",
      "('MAPS_AND_NAVIGATION', 1.3989169675090252)\n",
      "('FOOD_AND_DRINK', 1.2409747292418771)\n",
      "('EDUCATION', 1.128158844765343)\n",
      "('LIBRARIES_AND_DEMO', 0.9363718411552346)\n",
      "('AUTO_AND_VEHICLES', 0.9250902527075812)\n",
      "('ENTERTAINMENT', 0.8799638989169676)\n",
      "('HOUSE_AND_HOME', 0.8235559566787004)\n",
      "('WEATHER', 0.8009927797833934)\n",
      "('EVENTS', 0.7107400722021661)\n",
      "('PARENTING', 0.6543321299638989)\n",
      "('ART_AND_DESIGN', 0.6430505415162455)\n",
      "('COMICS', 0.6204873646209386)\n",
      "('BEAUTY', 0.5979241877256317)\n"
     ]
    }
   ],
   "source": [
    "# category\n",
    "android_apps_categories_sorted_percent = dict(sorted(freq_table(android_clean_English_free, 1)\\\n",
    "                                   .items(), key=lambda x:x[1], reverse=True))\n",
    "print(f'the frequency table for the categories of google apps is as follows:')\n",
    "for item in android_apps_categories_sorted_percent.items():\n",
    "    print(f'{item}')"
   ]
  },
  {
   "cell_type": "markdown",
   "source": [
    "It showed Android users had far more diverse taste in category of the apps that they use.\n",
    "\n",
    "The most common category was family, game, tools, business, lifestyle and many others, that's interesting, If we consider apps on their cellphones as their main source of information and time usage. It showed most of Android users are professional people who are family oriented, care about themselves their family business and lifestyle, pay least attention to Events, they think they know enough about parenting, comics, art and design, and beauty. Also, if we consider the fact that the most of gamers are kids, It also showed that Android users are a lot more mature than Apple users."
   ],
   "metadata": {
    "collapsed": false
   }
  },
  {
   "cell_type": "code",
   "execution_count": 32,
   "metadata": {
    "scrolled": true
   },
   "outputs": [
    {
     "name": "stdout",
     "output_type": "stream",
     "text": [
      "the frequency table for the genre of google apps is as follows:\n",
      "('Tools', 8.449909747292418)\n",
      "('Entertainment', 6.069494584837545)\n",
      "('Education', 5.347472924187725)\n",
      "('Business', 4.580324909747293)\n",
      "('Lifestyle', 3.892148014440433)\n",
      "('Productivity', 3.892148014440433)\n",
      "('Finance', 3.7003610108303246)\n",
      "('Medical', 3.5424187725631766)\n",
      "('Sports', 3.463447653429603)\n",
      "('Personalization', 3.3167870036101084)\n",
      "('Communication', 3.2490974729241873)\n",
      "('Action', 3.1024368231046933)\n",
      "('Health & Fitness', 3.068592057761733)\n",
      "('Photography', 2.944494584837545)\n",
      "('News & Magazines', 2.7978339350180503)\n",
      "('Social', 2.6624548736462095)\n",
      "('Travel & Local', 2.3240072202166067)\n",
      "('Shopping', 2.2450361010830324)\n",
      "('Books & Reference', 2.1435018050541514)\n",
      "('Simulation', 2.0419675090252705)\n",
      "('Dating', 1.861462093862816)\n",
      "('Arcade', 1.861462093862816)\n",
      "('Video Players & Editors', 1.782490974729242)\n",
      "('Casual', 1.7486462093862816)\n",
      "('Maps & Navigation', 1.3989169675090252)\n",
      "('Food & Drink', 1.2409747292418771)\n",
      "('Puzzle', 1.128158844765343)\n",
      "('Racing', 0.9927797833935018)\n",
      "('Libraries & Demo', 0.9363718411552346)\n",
      "('Role Playing', 0.9363718411552346)\n",
      "('Auto & Vehicles', 0.9250902527075812)\n",
      "('Strategy', 0.9138086642599278)\n",
      "('House & Home', 0.8235559566787004)\n",
      "('Weather', 0.8009927797833934)\n",
      "('Events', 0.7107400722021661)\n",
      "('Adventure', 0.6768953068592057)\n",
      "('Comics', 0.6092057761732852)\n",
      "('Art & Design', 0.5979241877256317)\n",
      "('Beauty', 0.5979241877256317)\n",
      "('Parenting', 0.4963898916967509)\n",
      "('Card', 0.4399819494584838)\n",
      "('Casino', 0.42870036101083037)\n",
      "('Trivia', 0.41741877256317694)\n",
      "('Educational;Education', 0.39485559566787)\n",
      "('Board', 0.3835740072202166)\n",
      "('Educational', 0.3722924187725632)\n",
      "('Education;Education', 0.33844765342960287)\n",
      "('Word', 0.2594765342960289)\n",
      "('Casual;Pretend Play', 0.236913357400722)\n",
      "('Music', 0.2030685920577617)\n",
      "('Entertainment;Music & Video', 0.16922382671480143)\n",
      "('Puzzle;Brain Games', 0.16922382671480143)\n",
      "('Racing;Action & Adventure', 0.16922382671480143)\n",
      "('Casual;Brain Games', 0.13537906137184114)\n",
      "('Casual;Action & Adventure', 0.13537906137184114)\n",
      "('Arcade;Action & Adventure', 0.12409747292418773)\n",
      "('Action;Action & Adventure', 0.10153429602888085)\n",
      "('Educational;Pretend Play', 0.09025270758122744)\n",
      "('Entertainment;Brain Games', 0.078971119133574)\n",
      "('Simulation;Action & Adventure', 0.078971119133574)\n",
      "('Board;Brain Games', 0.078971119133574)\n",
      "('Parenting;Education', 0.078971119133574)\n",
      "('Art & Design;Creativity', 0.06768953068592057)\n",
      "('Educational;Brain Games', 0.06768953068592057)\n",
      "('Casual;Creativity', 0.06768953068592057)\n",
      "('Parenting;Music & Video', 0.06768953068592057)\n",
      "('Education;Pretend Play', 0.056407942238267145)\n",
      "('Education;Creativity', 0.04512635379061372)\n",
      "('Role Playing;Pretend Play', 0.04512635379061372)\n",
      "('Education;Brain Games', 0.033844765342960284)\n",
      "('Entertainment;Creativity', 0.033844765342960284)\n",
      "('Educational;Creativity', 0.033844765342960284)\n",
      "('Adventure;Action & Adventure', 0.033844765342960284)\n",
      "('Role Playing;Action & Adventure', 0.033844765342960284)\n",
      "('Educational;Action & Adventure', 0.033844765342960284)\n",
      "('Entertainment;Action & Adventure', 0.033844765342960284)\n",
      "('Puzzle;Action & Adventure', 0.033844765342960284)\n",
      "('Education;Action & Adventure', 0.033844765342960284)\n",
      "('Education;Music & Video', 0.033844765342960284)\n",
      "('Casual;Education', 0.02256317689530686)\n",
      "('Music;Music & Video', 0.02256317689530686)\n",
      "('Simulation;Pretend Play', 0.02256317689530686)\n",
      "('Puzzle;Creativity', 0.02256317689530686)\n",
      "('Sports;Action & Adventure', 0.02256317689530686)\n",
      "('Board;Action & Adventure', 0.02256317689530686)\n",
      "('Entertainment;Pretend Play', 0.02256317689530686)\n",
      "('Video Players & Editors;Music & Video', 0.02256317689530686)\n",
      "('Comics;Creativity', 0.01128158844765343)\n",
      "('Lifestyle;Pretend Play', 0.01128158844765343)\n",
      "('Card;Brain Games', 0.01128158844765343)\n",
      "('Art & Design;Pretend Play', 0.01128158844765343)\n",
      "('Entertainment;Education', 0.01128158844765343)\n",
      "('Arcade;Pretend Play', 0.01128158844765343)\n",
      "('Art & Design;Action & Adventure', 0.01128158844765343)\n",
      "('Strategy;Action & Adventure', 0.01128158844765343)\n",
      "('Music & Audio;Music & Video', 0.01128158844765343)\n",
      "('Health & Fitness;Education', 0.01128158844765343)\n",
      "('Casual;Music & Video', 0.01128158844765343)\n",
      "('Travel & Local;Action & Adventure', 0.01128158844765343)\n",
      "('Tools;Education', 0.01128158844765343)\n",
      "('Parenting;Brain Games', 0.01128158844765343)\n",
      "('Health & Fitness;Action & Adventure', 0.01128158844765343)\n",
      "('Trivia;Education', 0.01128158844765343)\n",
      "('Lifestyle;Education', 0.01128158844765343)\n",
      "('Card;Action & Adventure', 0.01128158844765343)\n",
      "('Books & Reference;Education', 0.01128158844765343)\n",
      "('Simulation;Education', 0.01128158844765343)\n",
      "('Puzzle;Education', 0.01128158844765343)\n",
      "('Adventure;Education', 0.01128158844765343)\n",
      "('Role Playing;Brain Games', 0.01128158844765343)\n",
      "('Strategy;Education', 0.01128158844765343)\n",
      "('Racing;Pretend Play', 0.01128158844765343)\n",
      "('Communication;Creativity', 0.01128158844765343)\n",
      "('Strategy;Creativity', 0.01128158844765343)\n"
     ]
    }
   ],
   "source": [
    "android_apps_genre_sorted_percent = dict(sorted(freq_table(android_clean_English_free, 9)\\\n",
    "                                   .items(), key=lambda x:x[1], reverse=True))\n",
    "print(f'the frequency table for the genre of google apps is as follows:')\n",
    "for item in android_apps_genre_sorted_percent.items():\n",
    "    print(item)"
   ]
  },
  {
   "cell_type": "markdown",
   "source": [
    "If we compare genre of android apps and apple store apps we can see that android users are a lot less active in gaming, and it confirms our last intuition."
   ],
   "metadata": {
    "collapsed": false
   }
  },
  {
   "cell_type": "code",
   "execution_count": 33,
   "metadata": {
    "scrolled": true
   },
   "outputs": [
    {
     "name": "stdout",
     "output_type": "stream",
     "text": [
      "the frequency table for apps presenting in both of the stores,the first android store, and the second is apple store:\n",
      "\n",
      " {'Entertainment': [6.069494584837545, 7.883302296710118], 'Education': [5.347472924187725, 3.662321539416512], 'Business': [4.580324909747293, 0.5276225946617008], 'Lifestyle': [3.892148014440433, 1.5828677839851024], 'Productivity': [3.892148014440433, 1.7380509000620732], 'Finance': [3.7003610108303246, 1.1173184357541899], 'Medical': [3.5424187725631766, 0.186219739292365], 'Sports': [3.463447653429603, 2.1415270018621975], 'Health & Fitness': [3.068592057761733, 2.0173805090006205], 'Shopping': [2.2450361010830324, 2.60707635009311], 'Food & Drink': [1.2409747292418771, 0.8069522036002483], 'Weather': [0.8009927797833934, 0.8690254500310366], 'Music': [0.2030685920577617, 2.0484171322160147]}\n"
     ]
    }
   ],
   "source": [
    "common_genres = {}\n",
    "for key, value in android_apps_genre_sorted_percent.items():\n",
    "    if key in apple_apps_prime_genre_sorted_percent:\n",
    "        common_genres[key] = [value, apple_apps_prime_genre_sorted_percent[key]]\n",
    "print(f'the frequency table for apps presenting in both of the stores,\\\n",
    "the first android store, and the second is apple store:\\n\\n {common_genres}')"
   ]
  },
  {
   "cell_type": "markdown",
   "metadata": {},
   "source": [
    "# Most Popular Apps by Genre on the App Store"
   ]
  },
  {
   "cell_type": "markdown",
   "metadata": {},
   "source": [
    "We saw apps made for fun dominate the apple store, while Google play shows a more balanced "
   ]
  },
  {
   "cell_type": "markdown",
   "metadata": {},
   "source": [
    "We need to find out what genres are the most popular (i.e. have the most users)"
   ]
  },
  {
   "cell_type": "markdown",
   "metadata": {},
   "source": [
    "One way to investigate is to calculate the average number of installs for each app genre. For google play dataset we have an Installs column which we can use. While we don't have it for the Apple store so we can use the total number of user ratings as a proxy, that is in the rating_count_tot column."
   ]
  },
  {
   "cell_type": "markdown",
   "metadata": {},
   "source": [
    "1-Let's Isolate the apps of each genre.\n",
    "\n",
    "2-Add up the user ratings for the apps of that genre.\n",
    "\n",
    "3-Divide the sum by the number of apps for that genre (NOT BY THE TOTAL NUMBER OF APPS)"
   ]
  },
  {
   "cell_type": "markdown",
   "metadata": {},
   "source": [
    "The following provides similar results to the previous app store results just without percentages."
   ]
  },
  {
   "cell_type": "code",
   "execution_count": 34,
   "metadata": {
    "scrolled": false
   },
   "outputs": [
    {
     "name": "stdout",
     "output_type": "stream",
     "text": [
      "the frequency table for the genre of google apps is as follows:\n",
      "('Navigation', 86090.33333333333)\n",
      "('Reference', 74942.11111111111)\n",
      "('Social Networking', 71548.34905660378)\n",
      "('Music', 57326.530303030304)\n",
      "('Weather', 52279.892857142855)\n",
      "('Book', 39758.5)\n",
      "('Food & Drink', 33333.92307692308)\n",
      "('Finance', 31467.944444444445)\n",
      "('Photo & Video', 28441.54375)\n",
      "('Travel', 28243.8)\n",
      "('Shopping', 26919.690476190477)\n",
      "('Health & Fitness', 23298.015384615384)\n",
      "('Sports', 23008.898550724636)\n",
      "('Games', 22788.6696905016)\n",
      "('News', 21248.023255813954)\n",
      "('Productivity', 21028.410714285714)\n",
      "('Utilities', 18684.456790123455)\n",
      "('Lifestyle', 16485.764705882353)\n",
      "('Entertainment', 14029.830708661417)\n",
      "('Business', 7491.117647058823)\n",
      "('Education', 7003.983050847458)\n",
      "('Catalogs', 4004.0)\n",
      "('Medical', 612.0)\n"
     ]
    }
   ],
   "source": [
    "\n",
    "genre_user_counting = {}\n",
    "for genre in apple_apps_prime_genre_sorted_percent:\n",
    "    total = 0 # the sum of user ratings\n",
    "    len_genre = 0 # the number of apps specific to each genre\n",
    "    for app in app_store_English_free:\n",
    "        genre_app = app[11]\n",
    "        if genre_app == genre:\n",
    "            user_ratings = float(app[5])\n",
    "            total += user_ratings\n",
    "            len_genre += 1\n",
    "    ave_num_user_ratings = total / len_genre\n",
    "    genre_user_counting[genre] = ave_num_user_ratings\n",
    "    \n",
    "    \n",
    "genre_user_counting = dict(sorted(genre_user_counting.items(), key=lambda x:x[1], reverse=True))\n",
    "print(f'the frequency table for the genre of google apps is as follows:')\n",
    "for item in genre_user_counting.items():\n",
    "    print(item)"
   ]
  },
  {
   "cell_type": "code",
   "execution_count": 35,
   "metadata": {},
   "outputs": [
    {
     "name": "stdout",
     "output_type": "stream",
     "text": [
      "Waze - GPS Navigation, Maps & Real-time Traffic is 345046\n",
      "Google Maps - Navigation & Transit is 154911\n",
      "Geocaching® is 12811\n",
      "CoPilot GPS – Car Navigation & Offline Maps is 3582\n",
      "ImmobilienScout24: Real Estate Search in Germany is 187\n",
      "Railway Route Search is 5\n"
     ]
    }
   ],
   "source": [
    "for row in app_store_English_free:\n",
    "    if row[11] == 'Navigation':\n",
    "        print(row[1], 'is', row[5])"
   ]
  },
  {
   "cell_type": "markdown",
   "source": [
    "Therefore, on average navigation apps have the highest number of user reviews but it's dominated by Waze and Google Maps both have a great participation in this genre with half a million users in total."
   ],
   "metadata": {
    "collapsed": false
   }
  },
  {
   "cell_type": "code",
   "execution_count": 36,
   "outputs": [
    {
     "name": "stdout",
     "output_type": "stream",
     "text": [
      "Google Earth is 446185\n",
      "Yelp - Nearby Restaurants, Shopping & Services is 223885\n",
      "GasBuddy is 145549\n",
      "TripAdvisor Hotels Flights Restaurants is 56194\n",
      "Uber is 49466\n",
      "Lyft is 46922\n",
      "HotelTonight - Great Deals on Last Minute Hotels is 32341\n",
      "Hotels & Vacation Rentals by Booking.com is 31261\n",
      "Southwest Airlines is 30552\n",
      "Airbnb is 22302\n",
      "Expedia Hotels, Flights & Vacation Package Deals is 10278\n",
      "Fly Delta is 8094\n",
      "Hopper - Predict, Watch & Book Flights is 6944\n",
      "United Airlines is 5748\n",
      "Skiplagged — Actually Cheap Flights & Hotels is 1851\n",
      "Viator Tours & Activities is 1839\n",
      "iExit Interstate Exit Guide is 1798\n",
      "Gogo Entertainment is 1482\n",
      "Google Street View is 1450\n",
      "Webcams – EarthCam is 912\n",
      "HISTORY Here is 685\n",
      "DB Navigator is 512\n",
      "Mobike - Dockless Bike Share is 494\n",
      "MiFlight™ – Airport security line wait times at checkpoints for domestic and international travelers is 493\n",
      "BlaBlaCar - Trusted Carpooling is 397\n",
      "Six Flags is 353\n",
      "Google Trips – Travel planner is 329\n",
      "Voyages-sncf.com : book train and bus tickets is 268\n",
      "Trainline UK: Live Train Times, Tickets & Planner is 248\n",
      "Urlaubspiraten is 188\n",
      "铁路12306 is 177\n",
      "Ryanair - Cheapest Fares is 175\n",
      "飞猪 is 154\n",
      "Fleet Air Travel Guide & Airport Directory is 105\n",
      "FlixBus - bus travel in Europe is 92\n",
      "Ab in den Urlaub – Pauschalreisen günstig buchen is 22\n",
      "SNCF is 7\n",
      "skyticket - Reserve Best Valued Air Tickets is 0\n",
      "Fluege.de - Finde den billigsten Flug is 0\n",
      "VoiceTra(Voice Translator) is 0\n"
     ]
    }
   ],
   "source": [
    "for row in app_store_English_free:\n",
    "    if row[11] == 'Travel':\n",
    "        print(row[1], 'is', row[5])"
   ],
   "metadata": {
    "collapsed": false
   }
  },
  {
   "cell_type": "markdown",
   "source": [
    "As we see TripAdvisor is the best travel app with only 56k users, that's a great opportunity to make a travel app on apple store."
   ],
   "metadata": {
    "collapsed": false
   }
  },
  {
   "cell_type": "code",
   "execution_count": 37,
   "metadata": {},
   "outputs": [
    {
     "name": "stdout",
     "output_type": "stream",
     "text": [
      "CPlus for Craigslist app - mobile classifieds is 13345\n",
      "DRAGONS MODS FREE for Minecraft PC Game Edition is 2027\n",
      "Face Swap and Copy Free – Switch & Fusion Faces in a Photo is 431\n",
      "Ringtone Remixes - Marimba Remix Ringtones is 213\n"
     ]
    }
   ],
   "source": [
    "for row in app_store_English_free:\n",
    "    if row[11] == 'Catalogs':\n",
    "        print(row[1], 'is', row[5])"
   ]
  },
  {
   "cell_type": "code",
   "execution_count": 38,
   "metadata": {
    "scrolled": true
   },
   "outputs": [
    {
     "name": "stdout",
     "output_type": "stream",
     "text": [
      "Bible is 985920\n",
      "Dictionary.com Dictionary & Thesaurus is 200047\n",
      "Dictionary.com Dictionary & Thesaurus for iPad is 54175\n",
      "Google Translate is 26786\n",
      "Muslim Pro: Ramadan 2017 Prayer Times, Azan, Quran is 18418\n",
      "New Furniture Mods - Pocket Wiki & Game Tools for Minecraft PC Edition is 17588\n",
      "Merriam-Webster Dictionary is 16849\n",
      "Night Sky is 12122\n",
      "City Maps for Minecraft PE - The Best Maps for Minecraft Pocket Edition (MCPE) is 8535\n",
      "LUCKY BLOCK MOD ™ for Minecraft PC Edition - The Best Pocket Wiki & Mods Installer Tools is 4693\n",
      "GUNS MODS for Minecraft PC Edition - Mods Tools is 1497\n",
      "Guides for Pokémon GO - Pokemon GO News and Cheats is 826\n",
      "WWDC is 762\n",
      "Horror Maps for Minecraft PE - Download The Scariest Maps for Minecraft Pocket Edition (MCPE) Free is 718\n",
      "VPN Express is 14\n",
      "Real Bike Traffic Rider Virtual Reality Glasses is 8\n",
      "教えて!goo is 0\n",
      "Jishokun-Japanese English Dictionary & Translator is 0\n"
     ]
    }
   ],
   "source": [
    "for row in app_store_English_free:\n",
    "    if row[11] == 'Reference':\n",
    "        print(row[1], 'is', row[5])"
   ]
  },
  {
   "cell_type": "markdown",
   "metadata": {},
   "source": [
    "In the last two blocks two app profile recommendation is provided for the app store.\n",
    "\n",
    "It seems most people are interested in Craiglist-mobile classifieds to sell their stuff with 13345 popularity while the next choice on that genre only has 2027 popularity, so it would be great to make an app in genre of Catalogs.\n",
    "\n",
    "Also, they were interested in Bible, Dictionary.com, and translations. Also, after Bible and Dictionary.com there is a large drop of popularity from 200k to only 54k"
   ]
  },
  {
   "cell_type": "markdown",
   "metadata": {},
   "source": [
    "# Most Popular Apps by Genre on Google Play"
   ]
  },
  {
   "cell_type": "markdown",
   "metadata": {},
   "source": [
    "Below, we can see the number of installs for the genres of the latest complete dataset for the google play store apps"
   ]
  },
  {
   "cell_type": "code",
   "execution_count": 39,
   "metadata": {},
   "outputs": [
    {
     "name": "stdout",
     "output_type": "stream",
     "text": [
      "1,000,000+  is  15.749097472924186\n",
      "100,000+  is  11.563628158844766\n",
      "10,000,000+  is  10.503158844765343\n",
      "10,000+  is  10.209837545126353\n",
      "1,000+  is  8.393501805054152\n",
      "100+  is  6.915613718411552\n",
      "5,000,000+  is  6.825361010830325\n",
      "500,000+  is  5.561823104693141\n",
      "50,000+  is  4.7721119133574\n",
      "5,000+  is  4.512635379061372\n",
      "10+  is  3.5424187725631766\n",
      "500+  is  3.2490974729241873\n",
      "50,000,000+  is  2.3014440433213\n",
      "100,000,000+  is  2.1322202166064983\n",
      "50+  is  1.917870036101083\n",
      "5+  is  0.78971119133574\n",
      "1+  is  0.5076714801444043\n",
      "500,000,000+  is  0.2707581227436823\n",
      "1,000,000,000+  is  0.22563176895306858\n",
      "0+  is  0.04512635379061372\n",
      "0  is  0.01128158844765343\n"
     ]
    }
   ],
   "source": [
    "display_table(android_clean_English_free, 5)"
   ]
  },
  {
   "cell_type": "markdown",
   "metadata": {},
   "source": [
    "The provided data for number of installs has the information like 1,000,000+ and it is not clear what the exact count is. We don't need such info, we just need to find out what app genres attract more users."
   ]
  },
  {
   "cell_type": "code",
   "execution_count": 40,
   "metadata": {
    "scrolled": true
   },
   "outputs": [],
   "source": [
    "categories = freq_table(android_clean_English_free, 1)\n",
    "avg_num_installs_dic = {}\n",
    "\n",
    "for category in categories:\n",
    "    total = 0          # sum of installs specific to each genre\n",
    "    len_category = 0   # number of apps specific to each genre\n",
    "    avg_num_installs = 0\n",
    "    for row in android_clean_English_free:\n",
    "        category_app = row[1]\n",
    "        if category_app == category:\n",
    "            num_installs = row[5]\n",
    "            num_installs = num_installs.replace('+', '')\n",
    "            num_installs = num_installs.replace(',', '')\n",
    "            total += float(num_installs)\n",
    "            len_category += 1\n",
    "    avg_num_installs = total / len_category\n",
    "    avg_num_installs_dic[category] = avg_num_installs\n",
    "avg_num_installs_dic_sorted = dict(sorted(avg_num_installs_dic.items(), key=lambda x:x[1], reverse=True))"
   ]
  },
  {
   "cell_type": "code",
   "execution_count": 41,
   "metadata": {},
   "outputs": [
    {
     "name": "stdout",
     "output_type": "stream",
     "text": [
      "('COMMUNICATION', 38326063.197916664)\n",
      "('VIDEO_PLAYERS', 24790074.17721519)\n",
      "('SOCIAL', 23253652.127118643)\n",
      "('PHOTOGRAPHY', 17840110.40229885)\n",
      "('PRODUCTIVITY', 16772838.591304347)\n",
      "('TRAVEL_AND_LOCAL', 13984077.710144928)\n",
      "('GAME', 12914435.883748516)\n",
      "('TOOLS', 10801391.298666667)\n",
      "('NEWS_AND_MAGAZINES', 9549178.467741935)\n",
      "('ENTERTAINMENT', 9146923.076923076)\n",
      "('BOOKS_AND_REFERENCE', 8767811.894736841)\n",
      "('SHOPPING', 7036877.311557789)\n",
      "('PERSONALIZATION', 5201482.6122448975)\n",
      "('FAMILY', 5180161.789906103)\n",
      "('WEATHER', 5074486.197183099)\n",
      "('SPORTS', 4274688.722772277)\n",
      "('HEALTH_AND_FITNESS', 4167457.3602941176)\n",
      "('MAPS_AND_NAVIGATION', 4056941.7741935486)\n",
      "('ART_AND_DESIGN', 1986335.0877192982)\n",
      "('FOOD_AND_DRINK', 1924897.7363636363)\n",
      "('EDUCATION', 1768500.0)\n",
      "('BUSINESS', 1704192.3399014778)\n",
      "('LIFESTYLE', 1437816.2687861272)\n",
      "('FINANCE', 1387692.475609756)\n",
      "('HOUSE_AND_HOME', 1331540.5616438356)\n",
      "('DATING', 854028.8303030303)\n",
      "('COMICS', 817657.2727272727)\n",
      "('AUTO_AND_VEHICLES', 647317.8170731707)\n",
      "('LIBRARIES_AND_DEMO', 638503.734939759)\n",
      "('PARENTING', 542603.6206896552)\n",
      "('BEAUTY', 513151.88679245283)\n",
      "('EVENTS', 253542.22222222222)\n",
      "('MEDICAL', 123064.7898089172)\n"
     ]
    }
   ],
   "source": [
    "for item in avg_num_installs_dic_sorted.items():\n",
    "    print(item)"
   ]
  },
  {
   "cell_type": "code",
   "execution_count": 42,
   "metadata": {},
   "outputs": [
    {
     "name": "stdout",
     "output_type": "stream",
     "text": [
      "Messenger – Text and Video Chat for Free  is  1,000,000,000+\n",
      "Gmail  is  1,000,000,000+\n",
      "imo beta free calls and text  is  100,000,000+\n",
      "imo free video calls and chat  is  500,000,000+\n",
      "Android Messages  is  100,000,000+\n",
      "Google Duo - High Quality Video Calls  is  500,000,000+\n",
      "UC Browser - Fast Download Private & Secure  is  500,000,000+\n",
      "Skype - free IM & video calls  is  1,000,000,000+\n",
      "Who  is  100,000,000+\n",
      "GO SMS Pro - Messenger, Free Themes, Emoji  is  100,000,000+\n",
      "WhatsApp Messenger  is  1,000,000,000+\n",
      "Google Chrome: Fast & Secure  is  1,000,000,000+\n",
      "Firefox Browser fast & private  is  100,000,000+\n",
      "Messenger Lite: Free Calls & Messages  is  100,000,000+\n",
      "LINE: Free Calls & Messages  is  500,000,000+\n",
      "Hangouts  is  1,000,000,000+\n",
      "Kik  is  100,000,000+\n",
      "KakaoTalk: Free Calls & Text  is  100,000,000+\n",
      "Opera Mini - fast web browser  is  100,000,000+\n",
      "Opera Browser: Fast and Secure  is  100,000,000+\n",
      "Telegram  is  100,000,000+\n",
      "Truecaller: Caller ID, SMS spam blocking & Dialer  is  100,000,000+\n",
      "UC Browser Mini -Tiny Fast Private & Secure  is  100,000,000+\n",
      "Viber Messenger  is  500,000,000+\n",
      "WeChat  is  100,000,000+\n",
      "Yahoo Mail – Stay Organized  is  100,000,000+\n",
      "BBM - Free Calls & Messages  is  100,000,000+\n"
     ]
    }
   ],
   "source": [
    "for row in android_clean_English_free:\n",
    "    if row[1] == 'COMMUNICATION' and (row[5] == '1,000,000,000+' or \n",
    "                                     row[5] == '500,000,000+' or\n",
    "                                     row[5] == '100,000,000+'):\n",
    "        print(row[0], ' is ', row[5])"
   ]
  },
  {
   "cell_type": "markdown",
   "source": [
    "On average, communication apps have the highest number of installs, apps like \"Messenger - Text and Video Chat for Free\", \"Gmail\", \"Skype\", \"WhatsApp\" have a great participation in this."
   ],
   "metadata": {
    "collapsed": false
   }
  },
  {
   "cell_type": "markdown",
   "metadata": {},
   "source": [
    "To find out how largely the most popular communication apps dominate the installs we can make a smaller dataset and calculate the average"
   ]
  },
  {
   "cell_type": "code",
   "execution_count": 43,
   "metadata": {},
   "outputs": [
    {
     "data": {
      "text/plain": "3593510.3486590036"
     },
     "execution_count": 43,
     "metadata": {},
     "output_type": "execute_result"
    }
   ],
   "source": [
    "less_than_100m = []\n",
    "for row in android_clean_English_free:\n",
    "    num_installs = row[5]\n",
    "    num_installs = num_installs.replace('+', '')\n",
    "    num_installs = num_installs.replace(',', '')\n",
    "    num_installs = float(num_installs)\n",
    "    if row[1] == 'COMMUNICATION' and num_installs < 100000000:\n",
    "        less_than_100m.append(num_installs)\n",
    "sum(less_than_100m)/len(less_than_100m)"
   ]
  },
  {
   "cell_type": "markdown",
   "metadata": {},
   "source": [
    "As we saw If we remove the communication apps that have over 100m installs the average number of installs would reduce ten times."
   ]
  },
  {
   "cell_type": "code",
   "execution_count": 44,
   "metadata": {},
   "outputs": [
    {
     "name": "stdout",
     "output_type": "stream",
     "text": [
      "trivago: Hotels & Travel  is  50,000,000+\n",
      "Booking.com Travel Deals  is  100,000,000+\n",
      "VZ Navigator  is  50,000,000+\n",
      "2GIS: directory & navigator  is  50,000,000+\n",
      "Google Street View  is  1,000,000,000+\n",
      "Maps - Navigate & Explore  is  1,000,000,000+\n",
      "TripAdvisor Hotels Flights Restaurants Attractions  is  100,000,000+\n",
      "MAPS.ME – Offline Map and Travel Navigation  is  50,000,000+\n",
      "Google Earth  is  100,000,000+\n"
     ]
    }
   ],
   "source": [
    "for row in android_clean_English_free:\n",
    "    if row[1] == 'TRAVEL_AND_LOCAL' and (row[5] == '1,000,000,000+' or \n",
    "                                     row[5] == '500,000,000+' or\n",
    "                                     row[5] == '100,000,000+' or\n",
    "                                     row[5] == '50,000,000+'):\n",
    "        print(row[0], ' is ', row[5])"
   ]
  },
  {
   "cell_type": "markdown",
   "metadata": {},
   "source": [
    "In Travel and Local industry there are only few apps with more than 100m installations which are specifically in the field of Travel category."
   ]
  },
  {
   "cell_type": "markdown",
   "metadata": {},
   "source": [
    "# Summary"
   ]
  },
  {
   "cell_type": "markdown",
   "metadata": {},
   "source": [
    "We were supposed to study datasets of both google play and apple store to find out what profile of apps would be profitable for both of the markets.\n",
    "\n",
    "As we saw there is a kind of large lack of total number of ratings of apps on Apple Store and the number of users on Google store for TRAVEL apps therefore TRAVEL related apps are the most opportunistic app to build for both Apple Store and Google Store."
   ]
  },
  {
   "cell_type": "code",
   "execution_count": 44,
   "outputs": [],
   "source": [],
   "metadata": {
    "collapsed": false
   }
  }
 ],
 "metadata": {
  "kernelspec": {
   "display_name": "Python 3",
   "language": "python",
   "name": "python3"
  },
  "language_info": {
   "codemirror_mode": {
    "name": "ipython",
    "version": 3
   },
   "file_extension": ".py",
   "mimetype": "text/x-python",
   "name": "python",
   "nbconvert_exporter": "python",
   "pygments_lexer": "ipython3",
   "version": "3.8.2"
  }
 },
 "nbformat": 4,
 "nbformat_minor": 2
}
