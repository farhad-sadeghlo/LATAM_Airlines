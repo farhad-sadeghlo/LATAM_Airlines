{
 "cells": [
  {
   "cell_type": "markdown",
   "source": [
    "# Importing the libraries"
   ],
   "metadata": {
    "collapsed": false
   }
  },
  {
   "cell_type": "code",
   "execution_count": 1,
   "metadata": {
    "collapsed": true
   },
   "outputs": [],
   "source": [
    "import numpy as np\n",
    "import pandas as pd\n",
    "import seaborn as sns\n",
    "import matplotlib.pyplot as plt\n",
    "%matplotlib inline\n",
    "from datetime import datetime, date"
   ]
  },
  {
   "cell_type": "code",
   "execution_count": 2,
   "outputs": [],
   "source": [
    "df = pd.read_csv('dataset_SCL.csv', encoding = 'Latin-1', low_memory=False)"
   ],
   "metadata": {
    "collapsed": false
   }
  },
  {
   "cell_type": "markdown",
   "source": [
    "# Data Preparation"
   ],
   "metadata": {
    "collapsed": false
   }
  },
  {
   "cell_type": "markdown",
   "source": [
    "## Dataset review"
   ],
   "metadata": {
    "collapsed": false
   }
  },
  {
   "cell_type": "code",
   "execution_count": 3,
   "outputs": [
    {
     "data": {
      "text/plain": "(68206, 18)"
     },
     "execution_count": 3,
     "metadata": {},
     "output_type": "execute_result"
    }
   ],
   "source": [
    "df.shape"
   ],
   "metadata": {
    "collapsed": false
   }
  },
  {
   "cell_type": "code",
   "execution_count": 4,
   "outputs": [
    {
     "name": "stdout",
     "output_type": "stream",
     "text": [
      "<class 'pandas.core.frame.DataFrame'>\n",
      "RangeIndex: 68206 entries, 0 to 68205\n",
      "Data columns (total 18 columns):\n",
      " #   Column     Non-Null Count  Dtype \n",
      "---  ------     --------------  ----- \n",
      " 0   Fecha-I    68206 non-null  object\n",
      " 1   Vlo-I      68206 non-null  object\n",
      " 2   Ori-I      68206 non-null  object\n",
      " 3   Des-I      68206 non-null  object\n",
      " 4   Emp-I      68206 non-null  object\n",
      " 5   Fecha-O    68206 non-null  object\n",
      " 6   Vlo-O      68205 non-null  object\n",
      " 7   Ori-O      68206 non-null  object\n",
      " 8   Des-O      68206 non-null  object\n",
      " 9   Emp-O      68206 non-null  object\n",
      " 10  DIA        68206 non-null  int64 \n",
      " 11  MES        68206 non-null  int64 \n",
      " 12  AÃO       68206 non-null  int64 \n",
      " 13  DIANOM     68206 non-null  object\n",
      " 14  TIPOVUELO  68206 non-null  object\n",
      " 15  OPERA      68206 non-null  object\n",
      " 16  SIGLAORI   68206 non-null  object\n",
      " 17  SIGLADES   68206 non-null  object\n",
      "dtypes: int64(3), object(15)\n",
      "memory usage: 9.4+ MB\n"
     ]
    }
   ],
   "source": [
    "df.info()"
   ],
   "metadata": {
    "collapsed": false
   }
  },
  {
   "cell_type": "markdown",
   "source": [
    "## Looking for NaN values"
   ],
   "metadata": {
    "collapsed": false
   }
  },
  {
   "cell_type": "code",
   "execution_count": 5,
   "outputs": [
    {
     "data": {
      "text/plain": "Fecha-I      0\nVlo-I        0\nOri-I        0\nDes-I        0\nEmp-I        0\nFecha-O      0\nVlo-O        1\nOri-O        0\nDes-O        0\nEmp-O        0\nDIA          0\nMES          0\nAÃO         0\nDIANOM       0\nTIPOVUELO    0\nOPERA        0\nSIGLAORI     0\nSIGLADES     0\ndtype: int64"
     },
     "execution_count": 5,
     "metadata": {},
     "output_type": "execute_result"
    }
   ],
   "source": [
    "df.isna().sum()"
   ],
   "metadata": {
    "collapsed": false
   }
  },
  {
   "cell_type": "markdown",
   "source": [
    "It seems there is one row with nan value in Vlo-O column lets take a look at that row"
   ],
   "metadata": {
    "collapsed": false
   }
  },
  {
   "cell_type": "code",
   "execution_count": 6,
   "outputs": [
    {
     "data": {
      "text/plain": "                  Fecha-I Vlo-I Ori-I Des-I Emp-I              Fecha-O Vlo-O  \\\n6068  2017-01-19 11:00:00   200  SCEL  SPJC   LAW  2017-01-19 11:03:00   NaN   \n\n     Ori-O Des-O Emp-O  DIA  MES  AÃO  DIANOM TIPOVUELO  \\\n6068  SCEL  SPJC   56R   19    1  2017  Jueves         I   \n\n                     OPERA  SIGLAORI SIGLADES  \n6068  Latin American Wings  Santiago     Lima  ",
      "text/html": "<div>\n<style scoped>\n    .dataframe tbody tr th:only-of-type {\n        vertical-align: middle;\n    }\n\n    .dataframe tbody tr th {\n        vertical-align: top;\n    }\n\n    .dataframe thead th {\n        text-align: right;\n    }\n</style>\n<table border=\"1\" class=\"dataframe\">\n  <thead>\n    <tr style=\"text-align: right;\">\n      <th></th>\n      <th>Fecha-I</th>\n      <th>Vlo-I</th>\n      <th>Ori-I</th>\n      <th>Des-I</th>\n      <th>Emp-I</th>\n      <th>Fecha-O</th>\n      <th>Vlo-O</th>\n      <th>Ori-O</th>\n      <th>Des-O</th>\n      <th>Emp-O</th>\n      <th>DIA</th>\n      <th>MES</th>\n      <th>AÃO</th>\n      <th>DIANOM</th>\n      <th>TIPOVUELO</th>\n      <th>OPERA</th>\n      <th>SIGLAORI</th>\n      <th>SIGLADES</th>\n    </tr>\n  </thead>\n  <tbody>\n    <tr>\n      <th>6068</th>\n      <td>2017-01-19 11:00:00</td>\n      <td>200</td>\n      <td>SCEL</td>\n      <td>SPJC</td>\n      <td>LAW</td>\n      <td>2017-01-19 11:03:00</td>\n      <td>NaN</td>\n      <td>SCEL</td>\n      <td>SPJC</td>\n      <td>56R</td>\n      <td>19</td>\n      <td>1</td>\n      <td>2017</td>\n      <td>Jueves</td>\n      <td>I</td>\n      <td>Latin American Wings</td>\n      <td>Santiago</td>\n      <td>Lima</td>\n    </tr>\n  </tbody>\n</table>\n</div>"
     },
     "execution_count": 6,
     "metadata": {},
     "output_type": "execute_result"
    }
   ],
   "source": [
    "df[df['Vlo-O'].isnull()]"
   ],
   "metadata": {
    "collapsed": false
   }
  },
  {
   "cell_type": "markdown",
   "source": [
    "We can delete it."
   ],
   "metadata": {
    "collapsed": false
   }
  },
  {
   "cell_type": "code",
   "execution_count": 7,
   "outputs": [],
   "source": [
    "df.dropna(inplace=True)"
   ],
   "metadata": {
    "collapsed": false
   }
  },
  {
   "cell_type": "markdown",
   "source": [
    "## Changing column names to easier names"
   ],
   "metadata": {
    "collapsed": false
   }
  },
  {
   "cell_type": "code",
   "execution_count": 8,
   "outputs": [],
   "source": [
    "df.rename(columns={'Fecha-I':'sch_fl_time', 'Vlo-I':'sch_fl_no', 'Ori-I':'pr_ori_city_c', 'Des-I':'pr_des_city_c', 'Emp-I':'sch_fl_airline_c', 'Fecha-O':'op_fl_time', 'Vlo-O':'op_fl_no', 'Ori-O':'op_ori_city_c', 'Des-O':'op_des_city_c', 'Emp-O':'op_fl_airline_c', 'DIA':'fl_op_day_in_m', 'MES': 'fl_op_mo', 'AÃO':'fl_op_yr', 'DIANOM':'fl_op_day_in_w', 'TIPOVUELO':'fl_type', 'OPERA':'op_airline', 'SIGLAORI':'ori_city', 'SIGLADES':'des_city'}, inplace=True)"
   ],
   "metadata": {
    "collapsed": false
   }
  },
  {
   "cell_type": "code",
   "execution_count": 9,
   "outputs": [
    {
     "data": {
      "text/plain": "           sch_fl_time sch_fl_no pr_ori_city_c pr_des_city_c sch_fl_airline_c  \\\n0  2017-01-01 23:30:00       226          SCEL          KMIA              AAL   \n1  2017-01-02 23:30:00       226          SCEL          KMIA              AAL   \n2  2017-01-03 23:30:00       226          SCEL          KMIA              AAL   \n3  2017-01-04 23:30:00       226          SCEL          KMIA              AAL   \n4  2017-01-05 23:30:00       226          SCEL          KMIA              AAL   \n\n            op_fl_time op_fl_no op_ori_city_c op_des_city_c op_fl_airline_c  \\\n0  2017-01-01 23:33:00      226          SCEL          KMIA             AAL   \n1  2017-01-02 23:39:00      226          SCEL          KMIA             AAL   \n2  2017-01-03 23:39:00      226          SCEL          KMIA             AAL   \n3  2017-01-04 23:33:00      226          SCEL          KMIA             AAL   \n4  2017-01-05 23:28:00      226          SCEL          KMIA             AAL   \n\n   fl_op_day_in_m  fl_op_mo  fl_op_yr fl_op_day_in_w fl_type  \\\n0               1         1      2017        Domingo       I   \n1               2         1      2017          Lunes       I   \n2               3         1      2017         Martes       I   \n3               4         1      2017      Miercoles       I   \n4               5         1      2017         Jueves       I   \n\n          op_airline  ori_city des_city  \n0  American Airlines  Santiago    Miami  \n1  American Airlines  Santiago    Miami  \n2  American Airlines  Santiago    Miami  \n3  American Airlines  Santiago    Miami  \n4  American Airlines  Santiago    Miami  ",
      "text/html": "<div>\n<style scoped>\n    .dataframe tbody tr th:only-of-type {\n        vertical-align: middle;\n    }\n\n    .dataframe tbody tr th {\n        vertical-align: top;\n    }\n\n    .dataframe thead th {\n        text-align: right;\n    }\n</style>\n<table border=\"1\" class=\"dataframe\">\n  <thead>\n    <tr style=\"text-align: right;\">\n      <th></th>\n      <th>sch_fl_time</th>\n      <th>sch_fl_no</th>\n      <th>pr_ori_city_c</th>\n      <th>pr_des_city_c</th>\n      <th>sch_fl_airline_c</th>\n      <th>op_fl_time</th>\n      <th>op_fl_no</th>\n      <th>op_ori_city_c</th>\n      <th>op_des_city_c</th>\n      <th>op_fl_airline_c</th>\n      <th>fl_op_day_in_m</th>\n      <th>fl_op_mo</th>\n      <th>fl_op_yr</th>\n      <th>fl_op_day_in_w</th>\n      <th>fl_type</th>\n      <th>op_airline</th>\n      <th>ori_city</th>\n      <th>des_city</th>\n    </tr>\n  </thead>\n  <tbody>\n    <tr>\n      <th>0</th>\n      <td>2017-01-01 23:30:00</td>\n      <td>226</td>\n      <td>SCEL</td>\n      <td>KMIA</td>\n      <td>AAL</td>\n      <td>2017-01-01 23:33:00</td>\n      <td>226</td>\n      <td>SCEL</td>\n      <td>KMIA</td>\n      <td>AAL</td>\n      <td>1</td>\n      <td>1</td>\n      <td>2017</td>\n      <td>Domingo</td>\n      <td>I</td>\n      <td>American Airlines</td>\n      <td>Santiago</td>\n      <td>Miami</td>\n    </tr>\n    <tr>\n      <th>1</th>\n      <td>2017-01-02 23:30:00</td>\n      <td>226</td>\n      <td>SCEL</td>\n      <td>KMIA</td>\n      <td>AAL</td>\n      <td>2017-01-02 23:39:00</td>\n      <td>226</td>\n      <td>SCEL</td>\n      <td>KMIA</td>\n      <td>AAL</td>\n      <td>2</td>\n      <td>1</td>\n      <td>2017</td>\n      <td>Lunes</td>\n      <td>I</td>\n      <td>American Airlines</td>\n      <td>Santiago</td>\n      <td>Miami</td>\n    </tr>\n    <tr>\n      <th>2</th>\n      <td>2017-01-03 23:30:00</td>\n      <td>226</td>\n      <td>SCEL</td>\n      <td>KMIA</td>\n      <td>AAL</td>\n      <td>2017-01-03 23:39:00</td>\n      <td>226</td>\n      <td>SCEL</td>\n      <td>KMIA</td>\n      <td>AAL</td>\n      <td>3</td>\n      <td>1</td>\n      <td>2017</td>\n      <td>Martes</td>\n      <td>I</td>\n      <td>American Airlines</td>\n      <td>Santiago</td>\n      <td>Miami</td>\n    </tr>\n    <tr>\n      <th>3</th>\n      <td>2017-01-04 23:30:00</td>\n      <td>226</td>\n      <td>SCEL</td>\n      <td>KMIA</td>\n      <td>AAL</td>\n      <td>2017-01-04 23:33:00</td>\n      <td>226</td>\n      <td>SCEL</td>\n      <td>KMIA</td>\n      <td>AAL</td>\n      <td>4</td>\n      <td>1</td>\n      <td>2017</td>\n      <td>Miercoles</td>\n      <td>I</td>\n      <td>American Airlines</td>\n      <td>Santiago</td>\n      <td>Miami</td>\n    </tr>\n    <tr>\n      <th>4</th>\n      <td>2017-01-05 23:30:00</td>\n      <td>226</td>\n      <td>SCEL</td>\n      <td>KMIA</td>\n      <td>AAL</td>\n      <td>2017-01-05 23:28:00</td>\n      <td>226</td>\n      <td>SCEL</td>\n      <td>KMIA</td>\n      <td>AAL</td>\n      <td>5</td>\n      <td>1</td>\n      <td>2017</td>\n      <td>Jueves</td>\n      <td>I</td>\n      <td>American Airlines</td>\n      <td>Santiago</td>\n      <td>Miami</td>\n    </tr>\n  </tbody>\n</table>\n</div>"
     },
     "execution_count": 9,
     "metadata": {},
     "output_type": "execute_result"
    }
   ],
   "source": [
    "df.head(5)"
   ],
   "metadata": {
    "collapsed": false
   }
  },
  {
   "cell_type": "code",
   "execution_count": 10,
   "outputs": [
    {
     "data": {
      "text/plain": "Index(['sch_fl_time', 'sch_fl_no', 'pr_ori_city_c', 'pr_des_city_c',\n       'sch_fl_airline_c', 'op_fl_time', 'op_fl_no', 'op_ori_city_c',\n       'op_des_city_c', 'op_fl_airline_c', 'fl_op_day_in_m', 'fl_op_mo',\n       'fl_op_yr', 'fl_op_day_in_w', 'fl_type', 'op_airline', 'ori_city',\n       'des_city'],\n      dtype='object')"
     },
     "execution_count": 10,
     "metadata": {},
     "output_type": "execute_result"
    }
   ],
   "source": [
    "df.columns"
   ],
   "metadata": {
    "collapsed": false
   }
  },
  {
   "cell_type": "markdown",
   "source": [
    "## Reformatting columns with datetime objects"
   ],
   "metadata": {
    "collapsed": false
   }
  },
  {
   "cell_type": "code",
   "execution_count": 11,
   "outputs": [],
   "source": [
    "# I know the flight day, month, year, and flight day in week were already provided, but I was more confident to do this change of format to the columns of time\n",
    "df['sch_fl_time'] = pd.to_datetime(df['sch_fl_time'], format='%Y-%m-%d %H:%M:%S.%f', utc=False)\n",
    "df['op_fl_time'] = pd.to_datetime(df['op_fl_time'], format='%Y-%m-%d %H:%M:%S.%f', utc=False)"
   ],
   "metadata": {
    "collapsed": false
   }
  },
  {
   "cell_type": "markdown",
   "source": [
    "## Sorting the dataset based on the scheduled flight time"
   ],
   "metadata": {
    "collapsed": false
   }
  },
  {
   "cell_type": "code",
   "execution_count": 12,
   "outputs": [],
   "source": [
    "df.sort_values(by='sch_fl_time', inplace=True)\n",
    "df.reset_index(drop=True, inplace=True)"
   ],
   "metadata": {
    "collapsed": false
   }
  },
  {
   "cell_type": "code",
   "execution_count": 13,
   "outputs": [
    {
     "data": {
      "text/plain": "          sch_fl_time sch_fl_no pr_ori_city_c pr_des_city_c sch_fl_airline_c  \\\n0 2017-01-01 00:15:00        11          SCEL          MMMX              AMX   \n1 2017-01-01 01:15:00       572          SCEL          SKBO              LAN   \n2 2017-01-01 01:23:00       495          SCEL          MPTO              CMP   \n3 2017-01-01 01:33:00       240          SCEL          SKBO              AVA   \n4 2017-01-01 01:42:00       276          SCEL          MPTO              CMP   \n\n           op_fl_time op_fl_no op_ori_city_c op_des_city_c op_fl_airline_c  \\\n0 2017-01-01 00:04:00       11          SCEL          MMMX             AMX   \n1 2017-01-01 01:10:00      572          SCEL          SKBO             LAN   \n2 2017-01-01 01:29:00      495          SCEL          MPTO             CMP   \n3 2017-01-01 01:38:00      240          SCEL          SKBO             AVA   \n4 2017-01-01 01:40:00      276          SCEL          MPTO             CMP   \n\n   fl_op_day_in_m  fl_op_mo  fl_op_yr fl_op_day_in_w fl_type   op_airline  \\\n0               1         1      2017        Domingo       I   Aeromexico   \n1               1         1      2017        Domingo       I  Grupo LATAM   \n2               1         1      2017        Domingo       I     Copa Air   \n3               1         1      2017        Domingo       I      Avianca   \n4               1         1      2017        Domingo       I     Copa Air   \n\n   ori_city          des_city  \n0  Santiago  Ciudad de Mexico  \n1  Santiago            Bogota  \n2  Santiago  Ciudad de Panama  \n3  Santiago            Bogota  \n4  Santiago  Ciudad de Panama  ",
      "text/html": "<div>\n<style scoped>\n    .dataframe tbody tr th:only-of-type {\n        vertical-align: middle;\n    }\n\n    .dataframe tbody tr th {\n        vertical-align: top;\n    }\n\n    .dataframe thead th {\n        text-align: right;\n    }\n</style>\n<table border=\"1\" class=\"dataframe\">\n  <thead>\n    <tr style=\"text-align: right;\">\n      <th></th>\n      <th>sch_fl_time</th>\n      <th>sch_fl_no</th>\n      <th>pr_ori_city_c</th>\n      <th>pr_des_city_c</th>\n      <th>sch_fl_airline_c</th>\n      <th>op_fl_time</th>\n      <th>op_fl_no</th>\n      <th>op_ori_city_c</th>\n      <th>op_des_city_c</th>\n      <th>op_fl_airline_c</th>\n      <th>fl_op_day_in_m</th>\n      <th>fl_op_mo</th>\n      <th>fl_op_yr</th>\n      <th>fl_op_day_in_w</th>\n      <th>fl_type</th>\n      <th>op_airline</th>\n      <th>ori_city</th>\n      <th>des_city</th>\n    </tr>\n  </thead>\n  <tbody>\n    <tr>\n      <th>0</th>\n      <td>2017-01-01 00:15:00</td>\n      <td>11</td>\n      <td>SCEL</td>\n      <td>MMMX</td>\n      <td>AMX</td>\n      <td>2017-01-01 00:04:00</td>\n      <td>11</td>\n      <td>SCEL</td>\n      <td>MMMX</td>\n      <td>AMX</td>\n      <td>1</td>\n      <td>1</td>\n      <td>2017</td>\n      <td>Domingo</td>\n      <td>I</td>\n      <td>Aeromexico</td>\n      <td>Santiago</td>\n      <td>Ciudad de Mexico</td>\n    </tr>\n    <tr>\n      <th>1</th>\n      <td>2017-01-01 01:15:00</td>\n      <td>572</td>\n      <td>SCEL</td>\n      <td>SKBO</td>\n      <td>LAN</td>\n      <td>2017-01-01 01:10:00</td>\n      <td>572</td>\n      <td>SCEL</td>\n      <td>SKBO</td>\n      <td>LAN</td>\n      <td>1</td>\n      <td>1</td>\n      <td>2017</td>\n      <td>Domingo</td>\n      <td>I</td>\n      <td>Grupo LATAM</td>\n      <td>Santiago</td>\n      <td>Bogota</td>\n    </tr>\n    <tr>\n      <th>2</th>\n      <td>2017-01-01 01:23:00</td>\n      <td>495</td>\n      <td>SCEL</td>\n      <td>MPTO</td>\n      <td>CMP</td>\n      <td>2017-01-01 01:29:00</td>\n      <td>495</td>\n      <td>SCEL</td>\n      <td>MPTO</td>\n      <td>CMP</td>\n      <td>1</td>\n      <td>1</td>\n      <td>2017</td>\n      <td>Domingo</td>\n      <td>I</td>\n      <td>Copa Air</td>\n      <td>Santiago</td>\n      <td>Ciudad de Panama</td>\n    </tr>\n    <tr>\n      <th>3</th>\n      <td>2017-01-01 01:33:00</td>\n      <td>240</td>\n      <td>SCEL</td>\n      <td>SKBO</td>\n      <td>AVA</td>\n      <td>2017-01-01 01:38:00</td>\n      <td>240</td>\n      <td>SCEL</td>\n      <td>SKBO</td>\n      <td>AVA</td>\n      <td>1</td>\n      <td>1</td>\n      <td>2017</td>\n      <td>Domingo</td>\n      <td>I</td>\n      <td>Avianca</td>\n      <td>Santiago</td>\n      <td>Bogota</td>\n    </tr>\n    <tr>\n      <th>4</th>\n      <td>2017-01-01 01:42:00</td>\n      <td>276</td>\n      <td>SCEL</td>\n      <td>MPTO</td>\n      <td>CMP</td>\n      <td>2017-01-01 01:40:00</td>\n      <td>276</td>\n      <td>SCEL</td>\n      <td>MPTO</td>\n      <td>CMP</td>\n      <td>1</td>\n      <td>1</td>\n      <td>2017</td>\n      <td>Domingo</td>\n      <td>I</td>\n      <td>Copa Air</td>\n      <td>Santiago</td>\n      <td>Ciudad de Panama</td>\n    </tr>\n  </tbody>\n</table>\n</div>"
     },
     "execution_count": 13,
     "metadata": {},
     "output_type": "execute_result"
    }
   ],
   "source": [
    "df.head(5)"
   ],
   "metadata": {
    "collapsed": false
   }
  },
  {
   "cell_type": "markdown",
   "source": [
    "## Making a new column with the calculated flight delay time"
   ],
   "metadata": {
    "collapsed": false
   }
  },
  {
   "cell_type": "markdown",
   "source": [
    "A new column named as delay_time is added, it contains the differences between the operated flight time (op_fl_time) and scheduled flight time (sch_fl_time) for each flight"
   ],
   "metadata": {
    "collapsed": false
   }
  },
  {
   "cell_type": "code",
   "execution_count": 14,
   "outputs": [],
   "source": [
    "fl_delay_time = df['op_fl_time'].sub(df['sch_fl_time']).dt.total_seconds()\n",
    "df = df.assign(delay_time = fl_delay_time)"
   ],
   "metadata": {
    "collapsed": false
   }
  },
  {
   "cell_type": "code",
   "execution_count": 15,
   "outputs": [
    {
     "data": {
      "text/plain": "          sch_fl_time sch_fl_no pr_ori_city_c pr_des_city_c sch_fl_airline_c  \\\n0 2017-01-01 00:15:00        11          SCEL          MMMX              AMX   \n1 2017-01-01 01:15:00       572          SCEL          SKBO              LAN   \n2 2017-01-01 01:23:00       495          SCEL          MPTO              CMP   \n3 2017-01-01 01:33:00       240          SCEL          SKBO              AVA   \n4 2017-01-01 01:42:00       276          SCEL          MPTO              CMP   \n\n           op_fl_time op_fl_no op_ori_city_c op_des_city_c op_fl_airline_c  \\\n0 2017-01-01 00:04:00       11          SCEL          MMMX             AMX   \n1 2017-01-01 01:10:00      572          SCEL          SKBO             LAN   \n2 2017-01-01 01:29:00      495          SCEL          MPTO             CMP   \n3 2017-01-01 01:38:00      240          SCEL          SKBO             AVA   \n4 2017-01-01 01:40:00      276          SCEL          MPTO             CMP   \n\n   fl_op_day_in_m  fl_op_mo  fl_op_yr fl_op_day_in_w fl_type   op_airline  \\\n0               1         1      2017        Domingo       I   Aeromexico   \n1               1         1      2017        Domingo       I  Grupo LATAM   \n2               1         1      2017        Domingo       I     Copa Air   \n3               1         1      2017        Domingo       I      Avianca   \n4               1         1      2017        Domingo       I     Copa Air   \n\n   ori_city          des_city  delay_time  \n0  Santiago  Ciudad de Mexico      -660.0  \n1  Santiago            Bogota      -300.0  \n2  Santiago  Ciudad de Panama       360.0  \n3  Santiago            Bogota       300.0  \n4  Santiago  Ciudad de Panama      -120.0  ",
      "text/html": "<div>\n<style scoped>\n    .dataframe tbody tr th:only-of-type {\n        vertical-align: middle;\n    }\n\n    .dataframe tbody tr th {\n        vertical-align: top;\n    }\n\n    .dataframe thead th {\n        text-align: right;\n    }\n</style>\n<table border=\"1\" class=\"dataframe\">\n  <thead>\n    <tr style=\"text-align: right;\">\n      <th></th>\n      <th>sch_fl_time</th>\n      <th>sch_fl_no</th>\n      <th>pr_ori_city_c</th>\n      <th>pr_des_city_c</th>\n      <th>sch_fl_airline_c</th>\n      <th>op_fl_time</th>\n      <th>op_fl_no</th>\n      <th>op_ori_city_c</th>\n      <th>op_des_city_c</th>\n      <th>op_fl_airline_c</th>\n      <th>fl_op_day_in_m</th>\n      <th>fl_op_mo</th>\n      <th>fl_op_yr</th>\n      <th>fl_op_day_in_w</th>\n      <th>fl_type</th>\n      <th>op_airline</th>\n      <th>ori_city</th>\n      <th>des_city</th>\n      <th>delay_time</th>\n    </tr>\n  </thead>\n  <tbody>\n    <tr>\n      <th>0</th>\n      <td>2017-01-01 00:15:00</td>\n      <td>11</td>\n      <td>SCEL</td>\n      <td>MMMX</td>\n      <td>AMX</td>\n      <td>2017-01-01 00:04:00</td>\n      <td>11</td>\n      <td>SCEL</td>\n      <td>MMMX</td>\n      <td>AMX</td>\n      <td>1</td>\n      <td>1</td>\n      <td>2017</td>\n      <td>Domingo</td>\n      <td>I</td>\n      <td>Aeromexico</td>\n      <td>Santiago</td>\n      <td>Ciudad de Mexico</td>\n      <td>-660.0</td>\n    </tr>\n    <tr>\n      <th>1</th>\n      <td>2017-01-01 01:15:00</td>\n      <td>572</td>\n      <td>SCEL</td>\n      <td>SKBO</td>\n      <td>LAN</td>\n      <td>2017-01-01 01:10:00</td>\n      <td>572</td>\n      <td>SCEL</td>\n      <td>SKBO</td>\n      <td>LAN</td>\n      <td>1</td>\n      <td>1</td>\n      <td>2017</td>\n      <td>Domingo</td>\n      <td>I</td>\n      <td>Grupo LATAM</td>\n      <td>Santiago</td>\n      <td>Bogota</td>\n      <td>-300.0</td>\n    </tr>\n    <tr>\n      <th>2</th>\n      <td>2017-01-01 01:23:00</td>\n      <td>495</td>\n      <td>SCEL</td>\n      <td>MPTO</td>\n      <td>CMP</td>\n      <td>2017-01-01 01:29:00</td>\n      <td>495</td>\n      <td>SCEL</td>\n      <td>MPTO</td>\n      <td>CMP</td>\n      <td>1</td>\n      <td>1</td>\n      <td>2017</td>\n      <td>Domingo</td>\n      <td>I</td>\n      <td>Copa Air</td>\n      <td>Santiago</td>\n      <td>Ciudad de Panama</td>\n      <td>360.0</td>\n    </tr>\n    <tr>\n      <th>3</th>\n      <td>2017-01-01 01:33:00</td>\n      <td>240</td>\n      <td>SCEL</td>\n      <td>SKBO</td>\n      <td>AVA</td>\n      <td>2017-01-01 01:38:00</td>\n      <td>240</td>\n      <td>SCEL</td>\n      <td>SKBO</td>\n      <td>AVA</td>\n      <td>1</td>\n      <td>1</td>\n      <td>2017</td>\n      <td>Domingo</td>\n      <td>I</td>\n      <td>Avianca</td>\n      <td>Santiago</td>\n      <td>Bogota</td>\n      <td>300.0</td>\n    </tr>\n    <tr>\n      <th>4</th>\n      <td>2017-01-01 01:42:00</td>\n      <td>276</td>\n      <td>SCEL</td>\n      <td>MPTO</td>\n      <td>CMP</td>\n      <td>2017-01-01 01:40:00</td>\n      <td>276</td>\n      <td>SCEL</td>\n      <td>MPTO</td>\n      <td>CMP</td>\n      <td>1</td>\n      <td>1</td>\n      <td>2017</td>\n      <td>Domingo</td>\n      <td>I</td>\n      <td>Copa Air</td>\n      <td>Santiago</td>\n      <td>Ciudad de Panama</td>\n      <td>-120.0</td>\n    </tr>\n  </tbody>\n</table>\n</div>"
     },
     "execution_count": 15,
     "metadata": {},
     "output_type": "execute_result"
    }
   ],
   "source": [
    "df.head(5)"
   ],
   "metadata": {
    "collapsed": false
   }
  },
  {
   "cell_type": "markdown",
   "source": [
    "It seems some flights had early departure"
   ],
   "metadata": {
    "collapsed": false
   }
  }
 ],
 "metadata": {
  "kernelspec": {
   "display_name": "Python 3",
   "language": "python",
   "name": "python3"
  },
  "language_info": {
   "codemirror_mode": {
    "name": "ipython",
    "version": 2
   },
   "file_extension": ".py",
   "mimetype": "text/x-python",
   "name": "python",
   "nbconvert_exporter": "python",
   "pygments_lexer": "ipython2",
   "version": "2.7.6"
  }
 },
 "nbformat": 4,
 "nbformat_minor": 0
}
