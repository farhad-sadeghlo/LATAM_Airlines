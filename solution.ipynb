{
 "cells": [
  {
   "cell_type": "code",
   "execution_count": 2,
   "metadata": {
    "collapsed": true
   },
   "outputs": [],
   "source": [
    "import numpy as np\n",
    "import pandas as pd"
   ]
  },
  {
   "cell_type": "code",
   "execution_count": 10,
   "outputs": [],
   "source": [
    "df = pd.read_csv('dataset_SCL.csv', encoding = 'Latin-1', low_memory=False)"
   ],
   "metadata": {
    "collapsed": false
   }
  },
  {
   "cell_type": "code",
   "execution_count": 11,
   "outputs": [
    {
     "data": {
      "text/plain": "               Fecha-I Vlo-I Ori-I Des-I Emp-I              Fecha-O Vlo-O  \\\n0  2017-01-01 23:30:00   226  SCEL  KMIA   AAL  2017-01-01 23:33:00   226   \n1  2017-01-02 23:30:00   226  SCEL  KMIA   AAL  2017-01-02 23:39:00   226   \n2  2017-01-03 23:30:00   226  SCEL  KMIA   AAL  2017-01-03 23:39:00   226   \n3  2017-01-04 23:30:00   226  SCEL  KMIA   AAL  2017-01-04 23:33:00   226   \n4  2017-01-05 23:30:00   226  SCEL  KMIA   AAL  2017-01-05 23:28:00   226   \n\n  Ori-O Des-O Emp-O  DIA  MES  AÃO     DIANOM TIPOVUELO              OPERA  \\\n0  SCEL  KMIA   AAL    1    1  2017    Domingo         I  American Airlines   \n1  SCEL  KMIA   AAL    2    1  2017      Lunes         I  American Airlines   \n2  SCEL  KMIA   AAL    3    1  2017     Martes         I  American Airlines   \n3  SCEL  KMIA   AAL    4    1  2017  Miercoles         I  American Airlines   \n4  SCEL  KMIA   AAL    5    1  2017     Jueves         I  American Airlines   \n\n   SIGLAORI SIGLADES  \n0  Santiago    Miami  \n1  Santiago    Miami  \n2  Santiago    Miami  \n3  Santiago    Miami  \n4  Santiago    Miami  ",
      "text/html": "<div>\n<style scoped>\n    .dataframe tbody tr th:only-of-type {\n        vertical-align: middle;\n    }\n\n    .dataframe tbody tr th {\n        vertical-align: top;\n    }\n\n    .dataframe thead th {\n        text-align: right;\n    }\n</style>\n<table border=\"1\" class=\"dataframe\">\n  <thead>\n    <tr style=\"text-align: right;\">\n      <th></th>\n      <th>Fecha-I</th>\n      <th>Vlo-I</th>\n      <th>Ori-I</th>\n      <th>Des-I</th>\n      <th>Emp-I</th>\n      <th>Fecha-O</th>\n      <th>Vlo-O</th>\n      <th>Ori-O</th>\n      <th>Des-O</th>\n      <th>Emp-O</th>\n      <th>DIA</th>\n      <th>MES</th>\n      <th>AÃO</th>\n      <th>DIANOM</th>\n      <th>TIPOVUELO</th>\n      <th>OPERA</th>\n      <th>SIGLAORI</th>\n      <th>SIGLADES</th>\n    </tr>\n  </thead>\n  <tbody>\n    <tr>\n      <th>0</th>\n      <td>2017-01-01 23:30:00</td>\n      <td>226</td>\n      <td>SCEL</td>\n      <td>KMIA</td>\n      <td>AAL</td>\n      <td>2017-01-01 23:33:00</td>\n      <td>226</td>\n      <td>SCEL</td>\n      <td>KMIA</td>\n      <td>AAL</td>\n      <td>1</td>\n      <td>1</td>\n      <td>2017</td>\n      <td>Domingo</td>\n      <td>I</td>\n      <td>American Airlines</td>\n      <td>Santiago</td>\n      <td>Miami</td>\n    </tr>\n    <tr>\n      <th>1</th>\n      <td>2017-01-02 23:30:00</td>\n      <td>226</td>\n      <td>SCEL</td>\n      <td>KMIA</td>\n      <td>AAL</td>\n      <td>2017-01-02 23:39:00</td>\n      <td>226</td>\n      <td>SCEL</td>\n      <td>KMIA</td>\n      <td>AAL</td>\n      <td>2</td>\n      <td>1</td>\n      <td>2017</td>\n      <td>Lunes</td>\n      <td>I</td>\n      <td>American Airlines</td>\n      <td>Santiago</td>\n      <td>Miami</td>\n    </tr>\n    <tr>\n      <th>2</th>\n      <td>2017-01-03 23:30:00</td>\n      <td>226</td>\n      <td>SCEL</td>\n      <td>KMIA</td>\n      <td>AAL</td>\n      <td>2017-01-03 23:39:00</td>\n      <td>226</td>\n      <td>SCEL</td>\n      <td>KMIA</td>\n      <td>AAL</td>\n      <td>3</td>\n      <td>1</td>\n      <td>2017</td>\n      <td>Martes</td>\n      <td>I</td>\n      <td>American Airlines</td>\n      <td>Santiago</td>\n      <td>Miami</td>\n    </tr>\n    <tr>\n      <th>3</th>\n      <td>2017-01-04 23:30:00</td>\n      <td>226</td>\n      <td>SCEL</td>\n      <td>KMIA</td>\n      <td>AAL</td>\n      <td>2017-01-04 23:33:00</td>\n      <td>226</td>\n      <td>SCEL</td>\n      <td>KMIA</td>\n      <td>AAL</td>\n      <td>4</td>\n      <td>1</td>\n      <td>2017</td>\n      <td>Miercoles</td>\n      <td>I</td>\n      <td>American Airlines</td>\n      <td>Santiago</td>\n      <td>Miami</td>\n    </tr>\n    <tr>\n      <th>4</th>\n      <td>2017-01-05 23:30:00</td>\n      <td>226</td>\n      <td>SCEL</td>\n      <td>KMIA</td>\n      <td>AAL</td>\n      <td>2017-01-05 23:28:00</td>\n      <td>226</td>\n      <td>SCEL</td>\n      <td>KMIA</td>\n      <td>AAL</td>\n      <td>5</td>\n      <td>1</td>\n      <td>2017</td>\n      <td>Jueves</td>\n      <td>I</td>\n      <td>American Airlines</td>\n      <td>Santiago</td>\n      <td>Miami</td>\n    </tr>\n  </tbody>\n</table>\n</div>"
     },
     "execution_count": 11,
     "metadata": {},
     "output_type": "execute_result"
    }
   ],
   "source": [
    "df.head(5)"
   ],
   "metadata": {
    "collapsed": false
   }
  },
  {
   "cell_type": "code",
   "execution_count": null,
   "outputs": [],
   "source": [],
   "metadata": {
    "collapsed": false
   }
  }
 ],
 "metadata": {
  "kernelspec": {
   "display_name": "Python 3",
   "language": "python",
   "name": "python3"
  },
  "language_info": {
   "codemirror_mode": {
    "name": "ipython",
    "version": 2
   },
   "file_extension": ".py",
   "mimetype": "text/x-python",
   "name": "python",
   "nbconvert_exporter": "python",
   "pygments_lexer": "ipython2",
   "version": "2.7.6"
  }
 },
 "nbformat": 4,
 "nbformat_minor": 0
}
